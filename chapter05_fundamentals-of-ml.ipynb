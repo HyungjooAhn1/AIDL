{
  "cells": [
    {
      "cell_type": "markdown",
      "metadata": {
        "id": "jremLfFS9gmQ"
      },
      "source": [
        "This is a companion notebook for the book [Deep Learning with Python, Second Edition](https://www.manning.com/books/deep-learning-with-python-second-edition?a_aid=keras&a_bid=76564dff). For readability, it only contains runnable code blocks and section titles, and omits everything else in the book: text paragraphs, figures, and pseudocode.\n",
        "\n",
        "**If you want to be able to follow what's going on, I recommend reading the notebook side by side with your copy of the book.**\n",
        "\n",
        "This notebook was generated for TensorFlow 2.6."
      ]
    },
    {
      "cell_type": "markdown",
      "metadata": {
        "id": "knRSioSa9gmS"
      },
      "source": [
        "# Fundamentals of machine learning"
      ]
    },
    {
      "cell_type": "markdown",
      "metadata": {
        "id": "WdYP9yMQ9gmT"
      },
      "source": [
        "## Generalization: The goal of machine learning"
      ]
    },
    {
      "cell_type": "markdown",
      "metadata": {
        "id": "mcYn8ccq9gmT"
      },
      "source": [
        "### Underfitting and overfitting"
      ]
    },
    {
      "cell_type": "markdown",
      "metadata": {
        "id": "KTZuNgQT9gmT"
      },
      "source": [
        "#### Noisy training data"
      ]
    },
    {
      "cell_type": "markdown",
      "metadata": {
        "id": "eDbUHG729gmU"
      },
      "source": [
        "#### Ambiguous features"
      ]
    },
    {
      "cell_type": "markdown",
      "metadata": {
        "id": "d-yjOUK79gmU"
      },
      "source": [
        "#### Rare features and spurious correlations"
      ]
    },
    {
      "cell_type": "markdown",
      "metadata": {
        "id": "KVTX0nl49gmV"
      },
      "source": [
        "**Adding white-noise channels or all-zeros channels to MNIST**"
      ]
    },
    {
      "cell_type": "code",
      "execution_count": 1,
      "metadata": {
        "id": "stlt6cNF9gmV",
        "outputId": "88383368-ebd4-4b46-9a2d-0da6d840e952",
        "colab": {
          "base_uri": "https://localhost:8080/"
        }
      },
      "outputs": [
        {
          "output_type": "stream",
          "name": "stdout",
          "text": [
            "Downloading data from https://storage.googleapis.com/tensorflow/tf-keras-datasets/mnist.npz\n",
            "11493376/11490434 [==============================] - 0s 0us/step\n",
            "11501568/11490434 [==============================] - 0s 0us/step\n"
          ]
        }
      ],
      "source": [
        "from tensorflow.keras.datasets import mnist\n",
        "import numpy as np\n",
        "\n",
        "(train_images, train_labels), _ = mnist.load_data()\n",
        "train_images = train_images.reshape((60000, 28 * 28))\n",
        "train_images = train_images.astype(\"float32\") / 255\n",
        "\n",
        "train_images_with_noise_channels = np.concatenate(\n",
        "    [train_images, np.random.random((len(train_images), 784))], axis=1)\n",
        "\n",
        "train_images_with_zeros_channels = np.concatenate(\n",
        "    [train_images, np.zeros((len(train_images), 784))], axis=1)"
      ]
    },
    {
      "cell_type": "code",
      "source": [
        "train_images.shape"
      ],
      "metadata": {
        "id": "8C5z8olFC103",
        "outputId": "dd54c3e0-3a4b-4cf0-eae5-597973868d40",
        "colab": {
          "base_uri": "https://localhost:8080/"
        }
      },
      "execution_count": 2,
      "outputs": [
        {
          "output_type": "execute_result",
          "data": {
            "text/plain": [
              "(60000, 784)"
            ]
          },
          "metadata": {},
          "execution_count": 2
        }
      ]
    },
    {
      "cell_type": "code",
      "source": [
        "(len(train_images), 784)"
      ],
      "metadata": {
        "id": "z32JfFQFC4xY",
        "outputId": "0ff0a4d3-12cb-468e-ec23-f87bc5fc56a9",
        "colab": {
          "base_uri": "https://localhost:8080/"
        }
      },
      "execution_count": 3,
      "outputs": [
        {
          "output_type": "execute_result",
          "data": {
            "text/plain": [
              "(60000, 784)"
            ]
          },
          "metadata": {},
          "execution_count": 3
        }
      ]
    },
    {
      "cell_type": "code",
      "source": [
        "train_images_with_noise_channels.shape"
      ],
      "metadata": {
        "id": "zWQR877TDBX1",
        "outputId": "95e39b1d-9604-435f-f4cf-02405382a833",
        "colab": {
          "base_uri": "https://localhost:8080/"
        }
      },
      "execution_count": 5,
      "outputs": [
        {
          "output_type": "execute_result",
          "data": {
            "text/plain": [
              "(60000, 1568)"
            ]
          },
          "metadata": {},
          "execution_count": 5
        }
      ]
    },
    {
      "cell_type": "code",
      "source": [
        "train_labels.shape"
      ],
      "metadata": {
        "id": "rRn0IK7IDl3g",
        "outputId": "03ea038e-fd08-499a-a088-2da42c3a293b",
        "colab": {
          "base_uri": "https://localhost:8080/"
        }
      },
      "execution_count": 6,
      "outputs": [
        {
          "output_type": "execute_result",
          "data": {
            "text/plain": [
              "(60000,)"
            ]
          },
          "metadata": {},
          "execution_count": 6
        }
      ]
    },
    {
      "cell_type": "markdown",
      "metadata": {
        "id": "qrzNtvoo9gmW"
      },
      "source": [
        "**Training the same model on MNIST data with noise channels or all-zero channels**"
      ]
    },
    {
      "cell_type": "code",
      "execution_count": 7,
      "metadata": {
        "id": "zFiaKmMy9gmX",
        "outputId": "15e018e3-2339-4b97-90a6-8515c85a8ea4",
        "colab": {
          "base_uri": "https://localhost:8080/"
        }
      },
      "outputs": [
        {
          "output_type": "stream",
          "name": "stdout",
          "text": [
            "Epoch 1/10\n",
            "375/375 [==============================] - 6s 7ms/step - loss: 0.6138 - accuracy: 0.8120 - val_loss: 0.2659 - val_accuracy: 0.9207\n",
            "Epoch 2/10\n",
            "375/375 [==============================] - 2s 5ms/step - loss: 0.2483 - accuracy: 0.9228 - val_loss: 0.2031 - val_accuracy: 0.9402\n",
            "Epoch 3/10\n",
            "375/375 [==============================] - 2s 5ms/step - loss: 0.1607 - accuracy: 0.9503 - val_loss: 0.1532 - val_accuracy: 0.9548\n",
            "Epoch 4/10\n",
            "375/375 [==============================] - 2s 5ms/step - loss: 0.1149 - accuracy: 0.9650 - val_loss: 0.1688 - val_accuracy: 0.9467\n",
            "Epoch 5/10\n",
            "375/375 [==============================] - 2s 5ms/step - loss: 0.0839 - accuracy: 0.9736 - val_loss: 0.1368 - val_accuracy: 0.9591\n",
            "Epoch 6/10\n",
            "375/375 [==============================] - 2s 5ms/step - loss: 0.0626 - accuracy: 0.9807 - val_loss: 0.1117 - val_accuracy: 0.9691\n",
            "Epoch 7/10\n",
            "375/375 [==============================] - 2s 5ms/step - loss: 0.0465 - accuracy: 0.9853 - val_loss: 0.1385 - val_accuracy: 0.9612\n",
            "Epoch 8/10\n",
            "375/375 [==============================] - 2s 5ms/step - loss: 0.0361 - accuracy: 0.9884 - val_loss: 0.1305 - val_accuracy: 0.9657\n",
            "Epoch 9/10\n",
            "375/375 [==============================] - 2s 5ms/step - loss: 0.0265 - accuracy: 0.9913 - val_loss: 0.1486 - val_accuracy: 0.9636\n",
            "Epoch 10/10\n",
            "375/375 [==============================] - 2s 5ms/step - loss: 0.0219 - accuracy: 0.9925 - val_loss: 0.1379 - val_accuracy: 0.9653\n",
            "Epoch 1/10\n",
            "375/375 [==============================] - 3s 6ms/step - loss: 0.2903 - accuracy: 0.9154 - val_loss: 0.1436 - val_accuracy: 0.9591\n",
            "Epoch 2/10\n",
            "375/375 [==============================] - 2s 5ms/step - loss: 0.1182 - accuracy: 0.9647 - val_loss: 0.1121 - val_accuracy: 0.9658\n",
            "Epoch 3/10\n",
            "375/375 [==============================] - 2s 5ms/step - loss: 0.0785 - accuracy: 0.9768 - val_loss: 0.0895 - val_accuracy: 0.9731\n",
            "Epoch 4/10\n",
            "375/375 [==============================] - 2s 5ms/step - loss: 0.0561 - accuracy: 0.9833 - val_loss: 0.0829 - val_accuracy: 0.9755\n",
            "Epoch 5/10\n",
            "375/375 [==============================] - 2s 5ms/step - loss: 0.0417 - accuracy: 0.9875 - val_loss: 0.0765 - val_accuracy: 0.9792\n",
            "Epoch 6/10\n",
            "375/375 [==============================] - 2s 5ms/step - loss: 0.0315 - accuracy: 0.9903 - val_loss: 0.0833 - val_accuracy: 0.9776\n",
            "Epoch 7/10\n",
            "375/375 [==============================] - 2s 5ms/step - loss: 0.0233 - accuracy: 0.9934 - val_loss: 0.0884 - val_accuracy: 0.9749\n",
            "Epoch 8/10\n",
            "375/375 [==============================] - 2s 5ms/step - loss: 0.0184 - accuracy: 0.9946 - val_loss: 0.0840 - val_accuracy: 0.9781\n",
            "Epoch 9/10\n",
            "375/375 [==============================] - 2s 5ms/step - loss: 0.0136 - accuracy: 0.9964 - val_loss: 0.0818 - val_accuracy: 0.9803\n",
            "Epoch 10/10\n",
            "375/375 [==============================] - 2s 5ms/step - loss: 0.0104 - accuracy: 0.9973 - val_loss: 0.0887 - val_accuracy: 0.9785\n"
          ]
        }
      ],
      "source": [
        "from tensorflow import keras\n",
        "from tensorflow.keras import layers\n",
        "\n",
        "def get_model():\n",
        "    model = keras.Sequential([\n",
        "        layers.Dense(512, activation=\"relu\"),\n",
        "        layers.Dense(10, activation=\"softmax\")\n",
        "    ])\n",
        "    model.compile(optimizer=\"rmsprop\",\n",
        "                  loss=\"sparse_categorical_crossentropy\",\n",
        "                  metrics=[\"accuracy\"])\n",
        "    return model\n",
        "\n",
        "model = get_model()\n",
        "history_noise = model.fit(\n",
        "    train_images_with_noise_channels, train_labels,\n",
        "    epochs=10,\n",
        "    batch_size=128,\n",
        "    validation_split=0.2)\n",
        "\n",
        "model = get_model()\n",
        "history_zeros = model.fit(\n",
        "    train_images_with_zeros_channels, train_labels,\n",
        "    epochs=10,\n",
        "    batch_size=128,\n",
        "    validation_split=0.2)"
      ]
    },
    {
      "cell_type": "code",
      "source": [
        "model = get_model()  ## 노이즈 없이 실행\n",
        "history = model.fit(\n",
        "    train_images, train_labels,\n",
        "    epochs=10,\n",
        "    batch_size=128,\n",
        "    validation_split=0.2)"
      ],
      "metadata": {
        "id": "SvFToUiSEeAr",
        "outputId": "f0f91f88-bd54-488e-dbb9-a045d321150c",
        "colab": {
          "base_uri": "https://localhost:8080/"
        }
      },
      "execution_count": 8,
      "outputs": [
        {
          "output_type": "stream",
          "name": "stdout",
          "text": [
            "Epoch 1/10\n",
            "375/375 [==============================] - 2s 5ms/step - loss: 0.2866 - accuracy: 0.9182 - val_loss: 0.1528 - val_accuracy: 0.9557\n",
            "Epoch 2/10\n",
            "375/375 [==============================] - 2s 6ms/step - loss: 0.1178 - accuracy: 0.9653 - val_loss: 0.1057 - val_accuracy: 0.9680\n",
            "Epoch 3/10\n",
            "375/375 [==============================] - 2s 6ms/step - loss: 0.0774 - accuracy: 0.9771 - val_loss: 0.0951 - val_accuracy: 0.9725\n",
            "Epoch 4/10\n",
            "375/375 [==============================] - 2s 5ms/step - loss: 0.0550 - accuracy: 0.9835 - val_loss: 0.0917 - val_accuracy: 0.9751\n",
            "Epoch 5/10\n",
            "375/375 [==============================] - 3s 8ms/step - loss: 0.0410 - accuracy: 0.9879 - val_loss: 0.0880 - val_accuracy: 0.9747\n",
            "Epoch 6/10\n",
            "375/375 [==============================] - 2s 4ms/step - loss: 0.0304 - accuracy: 0.9912 - val_loss: 0.0795 - val_accuracy: 0.9776\n",
            "Epoch 7/10\n",
            "375/375 [==============================] - 2s 5ms/step - loss: 0.0232 - accuracy: 0.9932 - val_loss: 0.0803 - val_accuracy: 0.9785\n",
            "Epoch 8/10\n",
            "375/375 [==============================] - 2s 5ms/step - loss: 0.0168 - accuracy: 0.9952 - val_loss: 0.0987 - val_accuracy: 0.9755\n",
            "Epoch 9/10\n",
            "375/375 [==============================] - 2s 5ms/step - loss: 0.0137 - accuracy: 0.9962 - val_loss: 0.0853 - val_accuracy: 0.9783\n",
            "Epoch 10/10\n",
            "375/375 [==============================] - 2s 4ms/step - loss: 0.0100 - accuracy: 0.9973 - val_loss: 0.0919 - val_accuracy: 0.9778\n"
          ]
        }
      ]
    },
    {
      "cell_type": "markdown",
      "metadata": {
        "id": "W0xFNKh-9gmX"
      },
      "source": [
        "**Plotting a validation accuracy comparison**"
      ]
    },
    {
      "cell_type": "code",
      "execution_count": 9,
      "metadata": {
        "id": "pX10JGko9gmY",
        "outputId": "d177ddf7-1b69-4523-e6bb-b95c6e4b4215",
        "colab": {
          "base_uri": "https://localhost:8080/",
          "height": 313
        }
      },
      "outputs": [
        {
          "output_type": "execute_result",
          "data": {
            "text/plain": [
              "<matplotlib.legend.Legend at 0x7ff08e09ee50>"
            ]
          },
          "metadata": {},
          "execution_count": 9
        },
        {
          "output_type": "display_data",
          "data": {
            "text/plain": [
              "<Figure size 432x288 with 1 Axes>"
            ],
            "image/png": "[encoded data removed]"
          },
          "metadata": {
            "needs_background": "light"
          }
        }
      ],
      "source": [
        "import matplotlib.pyplot as plt\n",
        "val_acc_noise = history_noise.history[\"val_accuracy\"]\n",
        "val_acc_zeros = history_zeros.history[\"val_accuracy\"]\n",
        "epochs = range(1, 11)\n",
        "plt.plot(epochs, val_acc_noise, \"b-\",\n",
        "         label=\"Validation accuracy with noise channels\")\n",
        "plt.plot(epochs, val_acc_zeros, \"b--\",\n",
        "         label=\"Validation accuracy with zeros channels\")\n",
        "plt.title(\"Effect of noise channels on validation accuracy\")\n",
        "plt.xlabel(\"Epochs\")\n",
        "plt.ylabel(\"Accuracy\")\n",
        "plt.legend()"
      ]
    },
    {
      "cell_type": "code",
      "source": [
        "val_acc1 = history.history[\"val_accuracy\"]\n",
        "val_acc_zeros = history_zeros.history[\"val_accuracy\"]\n",
        "epochs = range(1, 11)\n",
        "plt.plot(epochs, val_acc1, \"b-\",\n",
        "         label=\"Validation accuracy with original data\")\n",
        "plt.plot(epochs, val_acc_zeros, \"b--\",\n",
        "         label=\"Validation accuracy with zeros channels\")\n",
        "plt.title(\"Effect of noise channels on validation accuracy\")\n",
        "plt.xlabel(\"Epochs\")\n",
        "plt.ylabel(\"Accuracy\")\n",
        "plt.legend()"
      ],
      "metadata": {
        "id": "FY2hs2WWE20W",
        "outputId": "fefdcb33-a2a6-41d3-feb8-8f3bdab1b761",
        "colab": {
          "base_uri": "https://localhost:8080/",
          "height": 313
        }
      },
      "execution_count": 10,
      "outputs": [
        {
          "output_type": "execute_result",
          "data": {
            "text/plain": [
              "<matplotlib.legend.Legend at 0x7ff08e2a2910>"
            ]
          },
          "metadata": {},
          "execution_count": 10
        },
        {
          "output_type": "display_data",
          "data": {
            "text/plain": [
              "<Figure size 432x288 with 1 Axes>"
            ],
            "image/png": "[encoded data removed]"
          },
          "metadata": {
            "needs_background": "light"
          }
        }
      ]
    },
    {
      "cell_type": "markdown",
      "metadata": {
        "id": "dUTnl_0U9gmY"
      },
      "source": [
        "### The nature of generalization in deep learning"
      ]
    },
    {
      "cell_type": "markdown",
      "metadata": {
        "id": "0PQ_l9Ab9gmY"
      },
      "source": [
        "**Fitting a MNIST model with randomly shuffled labels**"
      ]
    },
    {
      "cell_type": "code",
      "execution_count": 11,
      "metadata": {
        "id": "TSkK7PKz9gmZ",
        "outputId": "b911bcad-f961-419f-dab5-073081dcde33",
        "colab": {
          "base_uri": "https://localhost:8080/"
        }
      },
      "outputs": [
        {
          "output_type": "stream",
          "name": "stdout",
          "text": [
            "Epoch 1/100\n",
            "375/375 [==============================] - 2s 5ms/step - loss: 2.3169 - accuracy: 0.1032 - val_loss: 2.3061 - val_accuracy: 0.1073\n",
            "Epoch 2/100\n",
            "375/375 [==============================] - 2s 5ms/step - loss: 2.2994 - accuracy: 0.1181 - val_loss: 2.3121 - val_accuracy: 0.1077\n",
            "Epoch 3/100\n",
            "375/375 [==============================] - 3s 7ms/step - loss: 2.2888 - accuracy: 0.1292 - val_loss: 2.3174 - val_accuracy: 0.1036\n",
            "Epoch 4/100\n",
            "375/375 [==============================] - 3s 9ms/step - loss: 2.2760 - accuracy: 0.1409 - val_loss: 2.3244 - val_accuracy: 0.1030\n",
            "Epoch 5/100\n",
            "375/375 [==============================] - 3s 8ms/step - loss: 2.2576 - accuracy: 0.1546 - val_loss: 2.3361 - val_accuracy: 0.1019\n",
            "Epoch 6/100\n",
            "375/375 [==============================] - 2s 6ms/step - loss: 2.2362 - accuracy: 0.1688 - val_loss: 2.3505 - val_accuracy: 0.1016\n",
            "Epoch 7/100\n",
            "375/375 [==============================] - 2s 4ms/step - loss: 2.2129 - accuracy: 0.1839 - val_loss: 2.3631 - val_accuracy: 0.1028\n",
            "Epoch 8/100\n",
            "375/375 [==============================] - 2s 5ms/step - loss: 2.1856 - accuracy: 0.1991 - val_loss: 2.3868 - val_accuracy: 0.1055\n",
            "Epoch 9/100\n",
            "375/375 [==============================] - 2s 5ms/step - loss: 2.1555 - accuracy: 0.2147 - val_loss: 2.4074 - val_accuracy: 0.1018\n",
            "Epoch 10/100\n",
            "375/375 [==============================] - 2s 5ms/step - loss: 2.1243 - accuracy: 0.2319 - val_loss: 2.4284 - val_accuracy: 0.0978\n",
            "Epoch 11/100\n",
            "375/375 [==============================] - 2s 4ms/step - loss: 2.0904 - accuracy: 0.2480 - val_loss: 2.4553 - val_accuracy: 0.1012\n",
            "Epoch 12/100\n",
            "375/375 [==============================] - 2s 5ms/step - loss: 2.0590 - accuracy: 0.2606 - val_loss: 2.4737 - val_accuracy: 0.1023\n",
            "Epoch 13/100\n",
            "375/375 [==============================] - 2s 5ms/step - loss: 2.0244 - accuracy: 0.2773 - val_loss: 2.5046 - val_accuracy: 0.0997\n",
            "Epoch 14/100\n",
            "375/375 [==============================] - 2s 5ms/step - loss: 1.9909 - accuracy: 0.2929 - val_loss: 2.5258 - val_accuracy: 0.1023\n",
            "Epoch 15/100\n",
            "375/375 [==============================] - 2s 5ms/step - loss: 1.9553 - accuracy: 0.3050 - val_loss: 2.5762 - val_accuracy: 0.0999\n",
            "Epoch 16/100\n",
            "375/375 [==============================] - 2s 5ms/step - loss: 1.9196 - accuracy: 0.3229 - val_loss: 2.6109 - val_accuracy: 0.1003\n",
            "Epoch 17/100\n",
            "375/375 [==============================] - 2s 4ms/step - loss: 1.8885 - accuracy: 0.3341 - val_loss: 2.6342 - val_accuracy: 0.0997\n",
            "Epoch 18/100\n",
            "375/375 [==============================] - 2s 4ms/step - loss: 1.8545 - accuracy: 0.3461 - val_loss: 2.6900 - val_accuracy: 0.0978\n",
            "Epoch 19/100\n",
            "375/375 [==============================] - 2s 4ms/step - loss: 1.8199 - accuracy: 0.3620 - val_loss: 2.7195 - val_accuracy: 0.0968\n",
            "Epoch 20/100\n",
            "375/375 [==============================] - 2s 4ms/step - loss: 1.7882 - accuracy: 0.3746 - val_loss: 2.7638 - val_accuracy: 0.1032\n",
            "Epoch 21/100\n",
            "375/375 [==============================] - 2s 4ms/step - loss: 1.7583 - accuracy: 0.3859 - val_loss: 2.7935 - val_accuracy: 0.1016\n",
            "Epoch 22/100\n",
            "375/375 [==============================] - 2s 5ms/step - loss: 1.7246 - accuracy: 0.3987 - val_loss: 2.8158 - val_accuracy: 0.1001\n",
            "Epoch 23/100\n",
            "375/375 [==============================] - 2s 4ms/step - loss: 1.6941 - accuracy: 0.4108 - val_loss: 2.8797 - val_accuracy: 0.0997\n",
            "Epoch 24/100\n",
            "375/375 [==============================] - 2s 4ms/step - loss: 1.6666 - accuracy: 0.4214 - val_loss: 2.8981 - val_accuracy: 0.1007\n",
            "Epoch 25/100\n",
            "375/375 [==============================] - 2s 5ms/step - loss: 1.6365 - accuracy: 0.4324 - val_loss: 2.9501 - val_accuracy: 0.1024\n",
            "Epoch 26/100\n",
            "375/375 [==============================] - 2s 5ms/step - loss: 1.6087 - accuracy: 0.4435 - val_loss: 3.0052 - val_accuracy: 0.0975\n",
            "Epoch 27/100\n",
            "375/375 [==============================] - 2s 4ms/step - loss: 1.5798 - accuracy: 0.4524 - val_loss: 3.0357 - val_accuracy: 0.0949\n",
            "Epoch 28/100\n",
            "375/375 [==============================] - 2s 5ms/step - loss: 1.5525 - accuracy: 0.4641 - val_loss: 3.0694 - val_accuracy: 0.1009\n",
            "Epoch 29/100\n",
            "375/375 [==============================] - 2s 4ms/step - loss: 1.5265 - accuracy: 0.4723 - val_loss: 3.1120 - val_accuracy: 0.0993\n",
            "Epoch 30/100\n",
            "375/375 [==============================] - 2s 4ms/step - loss: 1.4992 - accuracy: 0.4832 - val_loss: 3.1876 - val_accuracy: 0.1013\n",
            "Epoch 31/100\n",
            "375/375 [==============================] - 2s 5ms/step - loss: 1.4733 - accuracy: 0.4969 - val_loss: 3.2124 - val_accuracy: 0.0983\n",
            "Epoch 32/100\n",
            "375/375 [==============================] - 2s 4ms/step - loss: 1.4486 - accuracy: 0.5030 - val_loss: 3.2632 - val_accuracy: 0.0984\n",
            "Epoch 33/100\n",
            "375/375 [==============================] - 2s 4ms/step - loss: 1.4249 - accuracy: 0.5119 - val_loss: 3.3022 - val_accuracy: 0.0966\n",
            "Epoch 34/100\n",
            "375/375 [==============================] - 2s 5ms/step - loss: 1.4034 - accuracy: 0.5188 - val_loss: 3.3668 - val_accuracy: 0.0983\n",
            "Epoch 35/100\n",
            "375/375 [==============================] - 2s 5ms/step - loss: 1.3791 - accuracy: 0.5288 - val_loss: 3.4129 - val_accuracy: 0.0954\n",
            "Epoch 36/100\n",
            "375/375 [==============================] - 2s 5ms/step - loss: 1.3562 - accuracy: 0.5367 - val_loss: 3.4522 - val_accuracy: 0.0975\n",
            "Epoch 37/100\n",
            "375/375 [==============================] - 2s 5ms/step - loss: 1.3345 - accuracy: 0.5448 - val_loss: 3.5112 - val_accuracy: 0.0969\n",
            "Epoch 38/100\n",
            "375/375 [==============================] - 2s 5ms/step - loss: 1.3119 - accuracy: 0.5550 - val_loss: 3.5720 - val_accuracy: 0.0964\n",
            "Epoch 39/100\n",
            "375/375 [==============================] - 2s 4ms/step - loss: 1.2911 - accuracy: 0.5629 - val_loss: 3.5936 - val_accuracy: 0.1013\n",
            "Epoch 40/100\n",
            "375/375 [==============================] - 2s 4ms/step - loss: 1.2716 - accuracy: 0.5711 - val_loss: 3.6704 - val_accuracy: 0.1010\n",
            "Epoch 41/100\n",
            "375/375 [==============================] - 2s 4ms/step - loss: 1.2497 - accuracy: 0.5775 - val_loss: 3.7071 - val_accuracy: 0.0988\n",
            "Epoch 42/100\n",
            "375/375 [==============================] - 2s 4ms/step - loss: 1.2321 - accuracy: 0.5822 - val_loss: 3.7498 - val_accuracy: 0.0973\n",
            "Epoch 43/100\n",
            "375/375 [==============================] - 2s 5ms/step - loss: 1.2109 - accuracy: 0.5907 - val_loss: 3.7977 - val_accuracy: 0.0986\n",
            "Epoch 44/100\n",
            "375/375 [==============================] - 2s 5ms/step - loss: 1.1932 - accuracy: 0.5986 - val_loss: 3.8740 - val_accuracy: 0.1026\n",
            "Epoch 45/100\n",
            "375/375 [==============================] - 2s 6ms/step - loss: 1.1734 - accuracy: 0.6015 - val_loss: 3.9224 - val_accuracy: 0.1011\n",
            "Epoch 46/100\n",
            "375/375 [==============================] - 2s 5ms/step - loss: 1.1563 - accuracy: 0.6092 - val_loss: 3.9546 - val_accuracy: 0.0998\n",
            "Epoch 47/100\n",
            "375/375 [==============================] - 2s 5ms/step - loss: 1.1376 - accuracy: 0.6173 - val_loss: 4.0171 - val_accuracy: 0.0981\n",
            "Epoch 48/100\n",
            "375/375 [==============================] - 2s 5ms/step - loss: 1.1209 - accuracy: 0.6233 - val_loss: 4.0891 - val_accuracy: 0.0992\n",
            "Epoch 49/100\n",
            "375/375 [==============================] - 2s 5ms/step - loss: 1.1040 - accuracy: 0.6303 - val_loss: 4.1257 - val_accuracy: 0.0963\n",
            "Epoch 50/100\n",
            "375/375 [==============================] - 2s 5ms/step - loss: 1.0849 - accuracy: 0.6369 - val_loss: 4.1821 - val_accuracy: 0.0973\n",
            "Epoch 51/100\n",
            "375/375 [==============================] - 2s 5ms/step - loss: 1.0716 - accuracy: 0.6395 - val_loss: 4.2085 - val_accuracy: 0.0981\n",
            "Epoch 52/100\n",
            "375/375 [==============================] - 2s 4ms/step - loss: 1.0524 - accuracy: 0.6480 - val_loss: 4.2906 - val_accuracy: 0.1000\n",
            "Epoch 53/100\n",
            "375/375 [==============================] - 2s 5ms/step - loss: 1.0353 - accuracy: 0.6513 - val_loss: 4.3629 - val_accuracy: 0.1015\n",
            "Epoch 54/100\n",
            "375/375 [==============================] - 2s 5ms/step - loss: 1.0193 - accuracy: 0.6578 - val_loss: 4.4076 - val_accuracy: 0.0981\n",
            "Epoch 55/100\n",
            "375/375 [==============================] - 2s 4ms/step - loss: 1.0036 - accuracy: 0.6645 - val_loss: 4.4818 - val_accuracy: 0.0988\n",
            "Epoch 56/100\n",
            "375/375 [==============================] - 2s 5ms/step - loss: 0.9910 - accuracy: 0.6688 - val_loss: 4.5317 - val_accuracy: 0.1008\n",
            "Epoch 57/100\n",
            "375/375 [==============================] - 2s 5ms/step - loss: 0.9753 - accuracy: 0.6755 - val_loss: 4.5620 - val_accuracy: 0.0992\n",
            "Epoch 58/100\n",
            "375/375 [==============================] - 2s 5ms/step - loss: 0.9621 - accuracy: 0.6772 - val_loss: 4.6298 - val_accuracy: 0.0985\n",
            "Epoch 59/100\n",
            "375/375 [==============================] - 2s 5ms/step - loss: 0.9461 - accuracy: 0.6865 - val_loss: 4.6869 - val_accuracy: 0.1007\n",
            "Epoch 60/100\n",
            "375/375 [==============================] - 2s 5ms/step - loss: 0.9312 - accuracy: 0.6903 - val_loss: 4.7289 - val_accuracy: 0.0992\n",
            "Epoch 61/100\n",
            "375/375 [==============================] - 2s 4ms/step - loss: 0.9177 - accuracy: 0.6956 - val_loss: 4.7950 - val_accuracy: 0.0960\n",
            "Epoch 62/100\n",
            "375/375 [==============================] - 2s 4ms/step - loss: 0.9062 - accuracy: 0.6990 - val_loss: 4.8615 - val_accuracy: 0.1010\n",
            "Epoch 63/100\n",
            "375/375 [==============================] - 2s 5ms/step - loss: 0.8941 - accuracy: 0.7031 - val_loss: 4.9159 - val_accuracy: 0.0983\n",
            "Epoch 64/100\n",
            "375/375 [==============================] - 2s 5ms/step - loss: 0.8785 - accuracy: 0.7073 - val_loss: 4.9887 - val_accuracy: 0.1006\n",
            "Epoch 65/100\n",
            "375/375 [==============================] - 2s 5ms/step - loss: 0.8658 - accuracy: 0.7124 - val_loss: 5.0811 - val_accuracy: 0.0993\n",
            "Epoch 66/100\n",
            "375/375 [==============================] - 2s 4ms/step - loss: 0.8506 - accuracy: 0.7189 - val_loss: 5.1238 - val_accuracy: 0.1040\n",
            "Epoch 67/100\n",
            "375/375 [==============================] - 2s 5ms/step - loss: 0.8386 - accuracy: 0.7220 - val_loss: 5.1530 - val_accuracy: 0.1015\n",
            "Epoch 68/100\n",
            "375/375 [==============================] - 2s 4ms/step - loss: 0.8282 - accuracy: 0.7268 - val_loss: 5.2497 - val_accuracy: 0.0982\n",
            "Epoch 69/100\n",
            "375/375 [==============================] - 2s 5ms/step - loss: 0.8153 - accuracy: 0.7300 - val_loss: 5.2624 - val_accuracy: 0.0978\n",
            "Epoch 70/100\n",
            "375/375 [==============================] - 2s 5ms/step - loss: 0.8045 - accuracy: 0.7336 - val_loss: 5.3296 - val_accuracy: 0.0985\n",
            "Epoch 71/100\n",
            "375/375 [==============================] - 2s 5ms/step - loss: 0.7935 - accuracy: 0.7383 - val_loss: 5.4304 - val_accuracy: 0.0948\n",
            "Epoch 72/100\n",
            "375/375 [==============================] - 2s 4ms/step - loss: 0.7828 - accuracy: 0.7436 - val_loss: 5.4734 - val_accuracy: 0.0961\n",
            "Epoch 73/100\n",
            "375/375 [==============================] - 2s 5ms/step - loss: 0.7676 - accuracy: 0.7473 - val_loss: 5.5060 - val_accuracy: 0.0986\n",
            "Epoch 74/100\n",
            "375/375 [==============================] - 2s 5ms/step - loss: 0.7597 - accuracy: 0.7515 - val_loss: 5.5530 - val_accuracy: 0.0975\n",
            "Epoch 75/100\n",
            "375/375 [==============================] - 2s 5ms/step - loss: 0.7488 - accuracy: 0.7540 - val_loss: 5.6186 - val_accuracy: 0.0984\n",
            "Epoch 76/100\n",
            "375/375 [==============================] - 2s 5ms/step - loss: 0.7407 - accuracy: 0.7572 - val_loss: 5.7014 - val_accuracy: 0.0992\n",
            "Epoch 77/100\n",
            "375/375 [==============================] - 2s 5ms/step - loss: 0.7281 - accuracy: 0.7635 - val_loss: 5.8192 - val_accuracy: 0.0988\n",
            "Epoch 78/100\n",
            "375/375 [==============================] - 2s 5ms/step - loss: 0.7170 - accuracy: 0.7666 - val_loss: 5.8328 - val_accuracy: 0.0966\n",
            "Epoch 79/100\n",
            "375/375 [==============================] - 2s 5ms/step - loss: 0.7072 - accuracy: 0.7687 - val_loss: 5.8658 - val_accuracy: 0.0968\n",
            "Epoch 80/100\n",
            "375/375 [==============================] - 2s 5ms/step - loss: 0.6964 - accuracy: 0.7723 - val_loss: 5.9946 - val_accuracy: 0.0962\n",
            "Epoch 81/100\n",
            "375/375 [==============================] - 2s 5ms/step - loss: 0.6879 - accuracy: 0.7764 - val_loss: 6.0266 - val_accuracy: 0.0958\n",
            "Epoch 82/100\n",
            "375/375 [==============================] - 2s 5ms/step - loss: 0.6779 - accuracy: 0.7784 - val_loss: 6.0838 - val_accuracy: 0.0988\n",
            "Epoch 83/100\n",
            "375/375 [==============================] - 2s 5ms/step - loss: 0.6680 - accuracy: 0.7818 - val_loss: 6.1971 - val_accuracy: 0.0985\n",
            "Epoch 84/100\n",
            "375/375 [==============================] - 2s 5ms/step - loss: 0.6602 - accuracy: 0.7855 - val_loss: 6.2388 - val_accuracy: 0.1015\n",
            "Epoch 85/100\n",
            "375/375 [==============================] - 2s 5ms/step - loss: 0.6509 - accuracy: 0.7883 - val_loss: 6.2813 - val_accuracy: 0.0972\n",
            "Epoch 86/100\n",
            "375/375 [==============================] - 2s 5ms/step - loss: 0.6410 - accuracy: 0.7913 - val_loss: 6.3719 - val_accuracy: 0.0993\n",
            "Epoch 87/100\n",
            "375/375 [==============================] - 2s 5ms/step - loss: 0.6324 - accuracy: 0.7959 - val_loss: 6.4505 - val_accuracy: 0.0967\n",
            "Epoch 88/100\n",
            "375/375 [==============================] - 2s 4ms/step - loss: 0.6227 - accuracy: 0.7979 - val_loss: 6.4914 - val_accuracy: 0.0978\n",
            "Epoch 89/100\n",
            "375/375 [==============================] - 2s 4ms/step - loss: 0.6163 - accuracy: 0.8005 - val_loss: 6.5427 - val_accuracy: 0.0957\n",
            "Epoch 90/100\n",
            "375/375 [==============================] - 2s 5ms/step - loss: 0.6059 - accuracy: 0.8054 - val_loss: 6.6117 - val_accuracy: 0.0983\n",
            "Epoch 91/100\n",
            "375/375 [==============================] - 2s 4ms/step - loss: 0.5984 - accuracy: 0.8064 - val_loss: 6.6798 - val_accuracy: 0.0978\n",
            "Epoch 92/100\n",
            "375/375 [==============================] - 2s 5ms/step - loss: 0.5906 - accuracy: 0.8090 - val_loss: 6.7261 - val_accuracy: 0.0989\n",
            "Epoch 93/100\n",
            "375/375 [==============================] - 2s 5ms/step - loss: 0.5825 - accuracy: 0.8126 - val_loss: 6.8347 - val_accuracy: 0.0972\n",
            "Epoch 94/100\n",
            "375/375 [==============================] - 2s 5ms/step - loss: 0.5746 - accuracy: 0.8151 - val_loss: 6.8803 - val_accuracy: 0.0960\n",
            "Epoch 95/100\n",
            "375/375 [==============================] - 2s 5ms/step - loss: 0.5668 - accuracy: 0.8181 - val_loss: 6.9463 - val_accuracy: 0.0963\n",
            "Epoch 96/100\n",
            "375/375 [==============================] - 2s 4ms/step - loss: 0.5583 - accuracy: 0.8213 - val_loss: 7.0215 - val_accuracy: 0.0989\n",
            "Epoch 97/100\n",
            "375/375 [==============================] - 2s 5ms/step - loss: 0.5505 - accuracy: 0.8211 - val_loss: 7.0766 - val_accuracy: 0.0993\n",
            "Epoch 98/100\n",
            "375/375 [==============================] - 2s 5ms/step - loss: 0.5424 - accuracy: 0.8242 - val_loss: 7.1218 - val_accuracy: 0.0990\n",
            "Epoch 99/100\n",
            "375/375 [==============================] - 2s 5ms/step - loss: 0.5360 - accuracy: 0.8288 - val_loss: 7.1864 - val_accuracy: 0.0975\n",
            "Epoch 100/100\n",
            "375/375 [==============================] - 2s 5ms/step - loss: 0.5276 - accuracy: 0.8305 - val_loss: 7.3333 - val_accuracy: 0.0977\n"
          ]
        },
        {
          "output_type": "execute_result",
          "data": {
            "text/plain": [
              "<keras.callbacks.History at 0x7ff08dd533d0>"
            ]
          },
          "metadata": {},
          "execution_count": 11
        }
      ],
      "source": [
        "(train_images, train_labels), _ = mnist.load_data()\n",
        "train_images = train_images.reshape((60000, 28 * 28))\n",
        "train_images = train_images.astype(\"float32\") / 255\n",
        "\n",
        "random_train_labels = train_labels[:]\n",
        "np.random.shuffle(random_train_labels) ## shuffle 해줌.\n",
        "\n",
        "model = keras.Sequential([\n",
        "    layers.Dense(512, activation=\"relu\"),\n",
        "    layers.Dense(10, activation=\"softmax\")\n",
        "])\n",
        "model.compile(optimizer=\"rmsprop\",\n",
        "              loss=\"sparse_categorical_crossentropy\",\n",
        "              metrics=[\"accuracy\"])\n",
        "model.fit(train_images, random_train_labels,\n",
        "          epochs=100,\n",
        "          batch_size=128,\n",
        "          validation_split=0.2)"
      ]
    },
    {
      "cell_type": "markdown",
      "metadata": {
        "id": "paFNsVzy9gmZ"
      },
      "source": [
        "#### The manifold hypothesis"
      ]
    },
    {
      "cell_type": "markdown",
      "metadata": {
        "id": "ZjF5VmmS9gmZ"
      },
      "source": [
        "#### Interpolation as a source of generalization"
      ]
    },
    {
      "cell_type": "markdown",
      "metadata": {
        "id": "BtQdXR0H9gmZ"
      },
      "source": [
        "#### Why deep learning works"
      ]
    },
    {
      "cell_type": "markdown",
      "metadata": {
        "id": "ntEbsUcf9gmZ"
      },
      "source": [
        "#### Training data is paramount"
      ]
    },
    {
      "cell_type": "markdown",
      "metadata": {
        "id": "JhOxzyAk9gma"
      },
      "source": [
        "## Evaluating machine-learning models"
      ]
    },
    {
      "cell_type": "markdown",
      "metadata": {
        "id": "je1rncbQ9gma"
      },
      "source": [
        "### Training, validation, and test sets"
      ]
    },
    {
      "cell_type": "markdown",
      "metadata": {
        "id": "PyKG2cOF9gma"
      },
      "source": [
        "#### Simple hold-out validation"
      ]
    },
    {
      "cell_type": "markdown",
      "metadata": {
        "id": "2iCna9XJ9gma"
      },
      "source": [
        "#### K-fold validation"
      ]
    },
    {
      "cell_type": "markdown",
      "metadata": {
        "id": "P_jsiSoP9gma"
      },
      "source": [
        "#### Iterated K-fold validation with shuffling"
      ]
    },
    {
      "cell_type": "markdown",
      "metadata": {
        "id": "u3-wld_b9gma"
      },
      "source": [
        "### Beating a common-sense baseline"
      ]
    },
    {
      "cell_type": "markdown",
      "metadata": {
        "id": "SNT-Apwp9gmb"
      },
      "source": [
        "### Things to keep in mind about model evaluation"
      ]
    },
    {
      "cell_type": "markdown",
      "metadata": {
        "id": "8eXyOuVP9gmb"
      },
      "source": [
        "## Improving model fit"
      ]
    },
    {
      "cell_type": "markdown",
      "metadata": {
        "id": "dVKonJqq9gmb"
      },
      "source": [
        "### Tuning key gradient descent parameters"
      ]
    },
    {
      "cell_type": "markdown",
      "metadata": {
        "id": "5NZcWPww9gmb"
      },
      "source": [
        "**Training a MNIST model with an incorrectly high learning rate**"
      ]
    },
    {
      "cell_type": "code",
      "execution_count": 12,
      "metadata": {
        "id": "coQONNlY9gmb",
        "outputId": "3bb16c42-1b51-4eec-9a4d-9ff787e544a7",
        "colab": {
          "base_uri": "https://localhost:8080/"
        }
      },
      "outputs": [
        {
          "output_type": "stream",
          "name": "stdout",
          "text": [
            "Epoch 1/10\n",
            "375/375 [==============================] - 2s 5ms/step - loss: 850.0004 - accuracy: 0.4654 - val_loss: 3.5684 - val_accuracy: 0.3418\n",
            "Epoch 2/10\n",
            "375/375 [==============================] - 2s 4ms/step - loss: 5.5531 - accuracy: 0.3091 - val_loss: 2.5869 - val_accuracy: 0.2918\n",
            "Epoch 3/10\n",
            "375/375 [==============================] - 2s 4ms/step - loss: 3.0512 - accuracy: 0.2904 - val_loss: 2.7293 - val_accuracy: 0.2505\n",
            "Epoch 4/10\n",
            "375/375 [==============================] - 2s 4ms/step - loss: 2.6945 - accuracy: 0.2820 - val_loss: 2.1807 - val_accuracy: 0.2934\n",
            "Epoch 5/10\n",
            "375/375 [==============================] - 2s 5ms/step - loss: 2.6468 - accuracy: 0.2771 - val_loss: 2.1857 - val_accuracy: 0.2742\n",
            "Epoch 6/10\n",
            "375/375 [==============================] - 2s 5ms/step - loss: 2.6746 - accuracy: 0.2721 - val_loss: 2.2209 - val_accuracy: 0.2395\n",
            "Epoch 7/10\n",
            "375/375 [==============================] - 2s 4ms/step - loss: 2.5386 - accuracy: 0.2562 - val_loss: 2.3781 - val_accuracy: 0.2823\n",
            "Epoch 8/10\n",
            "375/375 [==============================] - 2s 5ms/step - loss: 2.4627 - accuracy: 0.2571 - val_loss: 2.2339 - val_accuracy: 0.2617\n",
            "Epoch 9/10\n",
            "375/375 [==============================] - 2s 5ms/step - loss: 2.4661 - accuracy: 0.2523 - val_loss: 2.1843 - val_accuracy: 0.2387\n",
            "Epoch 10/10\n",
            "375/375 [==============================] - 2s 4ms/step - loss: 2.2793 - accuracy: 0.2659 - val_loss: 2.2370 - val_accuracy: 0.2553\n"
          ]
        },
        {
          "output_type": "execute_result",
          "data": {
            "text/plain": [
              "<keras.callbacks.History at 0x7ff08dc3dc90>"
            ]
          },
          "metadata": {},
          "execution_count": 12
        }
      ],
      "source": [
        "(train_images, train_labels), _ = mnist.load_data()\n",
        "train_images = train_images.reshape((60000, 28 * 28))\n",
        "train_images = train_images.astype(\"float32\") / 255\n",
        "\n",
        "model = keras.Sequential([\n",
        "    layers.Dense(512, activation=\"relu\"),\n",
        "    layers.Dense(10, activation=\"softmax\")\n",
        "])\n",
        "model.compile(optimizer=keras.optimizers.RMSprop(1.), ## learning rate(학습률)이 엄청 높기에 정확도가 늘지 않는다.\n",
        "              loss=\"sparse_categorical_crossentropy\",\n",
        "              metrics=[\"accuracy\"])\n",
        "model.fit(train_images, train_labels,\n",
        "          epochs=10,\n",
        "          batch_size=128,\n",
        "          validation_split=0.2)"
      ]
    },
    {
      "cell_type": "markdown",
      "metadata": {
        "id": "x-O273-H9gmb"
      },
      "source": [
        "**The same model with a more appropriate learning rate**"
      ]
    },
    {
      "cell_type": "code",
      "execution_count": 13,
      "metadata": {
        "id": "ce9mXe6p9gmb",
        "outputId": "97f0607d-69ab-492a-cc8a-2d28653dc94c",
        "colab": {
          "base_uri": "https://localhost:8080/"
        }
      },
      "outputs": [
        {
          "output_type": "stream",
          "name": "stdout",
          "text": [
            "Epoch 1/10\n",
            "375/375 [==============================] - 2s 5ms/step - loss: 0.4022 - accuracy: 0.9072 - val_loss: 0.2042 - val_accuracy: 0.9448\n",
            "Epoch 2/10\n",
            "375/375 [==============================] - 2s 5ms/step - loss: 0.1443 - accuracy: 0.9626 - val_loss: 0.1687 - val_accuracy: 0.9621\n",
            "Epoch 3/10\n",
            "375/375 [==============================] - 2s 5ms/step - loss: 0.1132 - accuracy: 0.9730 - val_loss: 0.1807 - val_accuracy: 0.9658\n",
            "Epoch 4/10\n",
            "375/375 [==============================] - 2s 5ms/step - loss: 0.0993 - accuracy: 0.9775 - val_loss: 0.1996 - val_accuracy: 0.9689\n",
            "Epoch 5/10\n",
            "375/375 [==============================] - 2s 5ms/step - loss: 0.0915 - accuracy: 0.9812 - val_loss: 0.2120 - val_accuracy: 0.9701\n",
            "Epoch 6/10\n",
            "375/375 [==============================] - 2s 5ms/step - loss: 0.0849 - accuracy: 0.9835 - val_loss: 0.2513 - val_accuracy: 0.9665\n",
            "Epoch 7/10\n",
            "375/375 [==============================] - 2s 5ms/step - loss: 0.0729 - accuracy: 0.9851 - val_loss: 0.2399 - val_accuracy: 0.9706\n",
            "Epoch 8/10\n",
            "375/375 [==============================] - 2s 5ms/step - loss: 0.0665 - accuracy: 0.9874 - val_loss: 0.2815 - val_accuracy: 0.9736\n",
            "Epoch 9/10\n",
            "375/375 [==============================] - 2s 5ms/step - loss: 0.0709 - accuracy: 0.9882 - val_loss: 0.3068 - val_accuracy: 0.9736\n",
            "Epoch 10/10\n",
            "375/375 [==============================] - 2s 5ms/step - loss: 0.0635 - accuracy: 0.9887 - val_loss: 0.3035 - val_accuracy: 0.9734\n"
          ]
        },
        {
          "output_type": "execute_result",
          "data": {
            "text/plain": [
              "<keras.callbacks.History at 0x7ff089bc3c10>"
            ]
          },
          "metadata": {},
          "execution_count": 13
        }
      ],
      "source": [
        "model = keras.Sequential([\n",
        "    layers.Dense(512, activation=\"relu\"),\n",
        "    layers.Dense(10, activation=\"softmax\")\n",
        "])\n",
        "model.compile(optimizer=keras.optimizers.RMSprop(1e-2),\n",
        "              loss=\"sparse_categorical_crossentropy\",\n",
        "              metrics=[\"accuracy\"])\n",
        "model.fit(train_images, train_labels,\n",
        "          epochs=10,\n",
        "          batch_size=128,\n",
        "          validation_split=0.2)"
      ]
    },
    {
      "cell_type": "markdown",
      "metadata": {
        "id": "-pJcOB6x9gmc"
      },
      "source": [
        "### Leveraging better architecture priors"
      ]
    },
    {
      "cell_type": "markdown",
      "metadata": {
        "id": "WLjcbEdv9gmc"
      },
      "source": [
        "### Increasing model capacity"
      ]
    },
    {
      "cell_type": "markdown",
      "metadata": {
        "id": "01G1cB4U9gmc"
      },
      "source": [
        "**A simple logistic regression on MNIST**"
      ]
    },
    {
      "cell_type": "code",
      "execution_count": 15,
      "metadata": {
        "id": "lva9anPv9gmc",
        "outputId": "ca5521ea-7a63-4bff-bb06-3c21890e3395",
        "colab": {
          "base_uri": "https://localhost:8080/"
        }
      },
      "outputs": [
        {
          "output_type": "stream",
          "name": "stdout",
          "text": [
            "Epoch 1/20\n",
            "375/375 [==============================] - 2s 5ms/step - loss: 0.6690 - accuracy: 0.8346 - val_loss: 0.3585 - val_accuracy: 0.9032\n",
            "Epoch 2/20\n",
            "375/375 [==============================] - 1s 4ms/step - loss: 0.3512 - accuracy: 0.9040 - val_loss: 0.3070 - val_accuracy: 0.9164\n",
            "Epoch 3/20\n",
            "375/375 [==============================] - 1s 4ms/step - loss: 0.3156 - accuracy: 0.9122 - val_loss: 0.2903 - val_accuracy: 0.9193\n",
            "Epoch 4/20\n",
            "375/375 [==============================] - 1s 4ms/step - loss: 0.2994 - accuracy: 0.9163 - val_loss: 0.2814 - val_accuracy: 0.9222\n",
            "Epoch 5/20\n",
            "375/375 [==============================] - 1s 4ms/step - loss: 0.2897 - accuracy: 0.9192 - val_loss: 0.2760 - val_accuracy: 0.9237\n",
            "Epoch 6/20\n",
            "375/375 [==============================] - 1s 4ms/step - loss: 0.2830 - accuracy: 0.9205 - val_loss: 0.2719 - val_accuracy: 0.9251\n",
            "Epoch 7/20\n",
            "375/375 [==============================] - 1s 4ms/step - loss: 0.2777 - accuracy: 0.9224 - val_loss: 0.2709 - val_accuracy: 0.9254\n",
            "Epoch 8/20\n",
            "375/375 [==============================] - 1s 4ms/step - loss: 0.2741 - accuracy: 0.9235 - val_loss: 0.2685 - val_accuracy: 0.9258\n",
            "Epoch 9/20\n",
            "375/375 [==============================] - 1s 4ms/step - loss: 0.2709 - accuracy: 0.9237 - val_loss: 0.2661 - val_accuracy: 0.9277\n",
            "Epoch 10/20\n",
            "375/375 [==============================] - 1s 4ms/step - loss: 0.2684 - accuracy: 0.9254 - val_loss: 0.2634 - val_accuracy: 0.9297\n",
            "Epoch 11/20\n",
            "375/375 [==============================] - 1s 4ms/step - loss: 0.2666 - accuracy: 0.9262 - val_loss: 0.2637 - val_accuracy: 0.9289\n",
            "Epoch 12/20\n",
            "375/375 [==============================] - 1s 4ms/step - loss: 0.2647 - accuracy: 0.9270 - val_loss: 0.2631 - val_accuracy: 0.9290\n",
            "Epoch 13/20\n",
            "375/375 [==============================] - 1s 4ms/step - loss: 0.2627 - accuracy: 0.9275 - val_loss: 0.2644 - val_accuracy: 0.9294\n",
            "Epoch 14/20\n",
            "375/375 [==============================] - 1s 4ms/step - loss: 0.2616 - accuracy: 0.9280 - val_loss: 0.2624 - val_accuracy: 0.9296\n",
            "Epoch 15/20\n",
            "375/375 [==============================] - 1s 4ms/step - loss: 0.2603 - accuracy: 0.9286 - val_loss: 0.2622 - val_accuracy: 0.9296\n",
            "Epoch 16/20\n",
            "375/375 [==============================] - 1s 4ms/step - loss: 0.2591 - accuracy: 0.9285 - val_loss: 0.2632 - val_accuracy: 0.9289\n",
            "Epoch 17/20\n",
            "375/375 [==============================] - 2s 4ms/step - loss: 0.2582 - accuracy: 0.9291 - val_loss: 0.2613 - val_accuracy: 0.9306\n",
            "Epoch 18/20\n",
            "375/375 [==============================] - 1s 4ms/step - loss: 0.2569 - accuracy: 0.9294 - val_loss: 0.2595 - val_accuracy: 0.9315\n",
            "Epoch 19/20\n",
            "375/375 [==============================] - 1s 4ms/step - loss: 0.2561 - accuracy: 0.9300 - val_loss: 0.2633 - val_accuracy: 0.9306\n",
            "Epoch 20/20\n",
            "375/375 [==============================] - 1s 4ms/step - loss: 0.2553 - accuracy: 0.9296 - val_loss: 0.2603 - val_accuracy: 0.9309\n"
          ]
        }
      ],
      "source": [
        "model = keras.Sequential([layers.Dense(10, activation=\"softmax\")]) ## softmax를 활용한 한 개의 layer 설정하는 것이 로지스틱 회귀분석.\n",
        "model.compile(optimizer=\"rmsprop\",\n",
        "              loss=\"sparse_categorical_crossentropy\",\n",
        "              metrics=[\"accuracy\"])\n",
        "history_small_model = model.fit(\n",
        "    train_images, train_labels,\n",
        "    epochs=20,\n",
        "    batch_size=128,\n",
        "    validation_split=0.2)"
      ]
    },
    {
      "cell_type": "code",
      "execution_count": 16,
      "metadata": {
        "id": "037qOsTR9gmc",
        "outputId": "2e1f8f93-72ed-4fd5-fc7f-c9da8298de2e",
        "colab": {
          "base_uri": "https://localhost:8080/",
          "height": 313
        }
      },
      "outputs": [
        {
          "output_type": "execute_result",
          "data": {
            "text/plain": [
              "<matplotlib.legend.Legend at 0x7ff0899b2c90>"
            ]
          },
          "metadata": {},
          "execution_count": 16
        },
        {
          "output_type": "display_data",
          "data": {
            "text/plain": [
              "<Figure size 432x288 with 1 Axes>"
            ],
            "image/png": "[encoded data removed]"
          },
          "metadata": {
            "needs_background": "light"
          }
        }
      ],
      "source": [
        "import matplotlib.pyplot as plt\n",
        "val_loss = history_small_model.history[\"val_loss\"]\n",
        "epochs = range(1, 21)\n",
        "plt.plot(epochs, val_loss, \"b--\",\n",
        "         label=\"Validation loss\")\n",
        "plt.title(\"Effect of insufficient model capacity on validation loss\")\n",
        "plt.xlabel(\"Epochs\")\n",
        "plt.ylabel(\"Loss\")\n",
        "plt.legend()"
      ]
    },
    {
      "cell_type": "code",
      "execution_count": 17,
      "metadata": {
        "id": "Is0bNRua9gmc",
        "outputId": "0eaeba45-e9db-4bfb-c9a0-11e4bf9c4f32",
        "colab": {
          "base_uri": "https://localhost:8080/"
        }
      },
      "outputs": [
        {
          "output_type": "stream",
          "name": "stdout",
          "text": [
            "Epoch 1/20\n",
            "375/375 [==============================] - 2s 5ms/step - loss: 0.3692 - accuracy: 0.8955 - val_loss: 0.2082 - val_accuracy: 0.9392\n",
            "Epoch 2/20\n",
            "375/375 [==============================] - 2s 5ms/step - loss: 0.1667 - accuracy: 0.9516 - val_loss: 0.1380 - val_accuracy: 0.9617\n",
            "Epoch 3/20\n",
            "375/375 [==============================] - 2s 5ms/step - loss: 0.1159 - accuracy: 0.9654 - val_loss: 0.1190 - val_accuracy: 0.9643\n",
            "Epoch 4/20\n",
            "375/375 [==============================] - 2s 5ms/step - loss: 0.0885 - accuracy: 0.9739 - val_loss: 0.1055 - val_accuracy: 0.9681\n",
            "Epoch 5/20\n",
            "375/375 [==============================] - 2s 5ms/step - loss: 0.0705 - accuracy: 0.9795 - val_loss: 0.1024 - val_accuracy: 0.9706\n",
            "Epoch 6/20\n",
            "375/375 [==============================] - 2s 5ms/step - loss: 0.0585 - accuracy: 0.9817 - val_loss: 0.0949 - val_accuracy: 0.9720\n",
            "Epoch 7/20\n",
            "375/375 [==============================] - 2s 4ms/step - loss: 0.0491 - accuracy: 0.9852 - val_loss: 0.0962 - val_accuracy: 0.9718\n",
            "Epoch 8/20\n",
            "375/375 [==============================] - 2s 4ms/step - loss: 0.0419 - accuracy: 0.9870 - val_loss: 0.0960 - val_accuracy: 0.9743\n",
            "Epoch 9/20\n",
            "375/375 [==============================] - 2s 4ms/step - loss: 0.0349 - accuracy: 0.9894 - val_loss: 0.0930 - val_accuracy: 0.9746\n",
            "Epoch 10/20\n",
            "375/375 [==============================] - 2s 4ms/step - loss: 0.0293 - accuracy: 0.9914 - val_loss: 0.0919 - val_accuracy: 0.9755\n",
            "Epoch 11/20\n",
            "375/375 [==============================] - 2s 5ms/step - loss: 0.0244 - accuracy: 0.9919 - val_loss: 0.1063 - val_accuracy: 0.9754\n",
            "Epoch 12/20\n",
            "375/375 [==============================] - 2s 4ms/step - loss: 0.0216 - accuracy: 0.9937 - val_loss: 0.1090 - val_accuracy: 0.9749\n",
            "Epoch 13/20\n",
            "375/375 [==============================] - 2s 5ms/step - loss: 0.0184 - accuracy: 0.9946 - val_loss: 0.1073 - val_accuracy: 0.9761\n",
            "Epoch 14/20\n",
            "375/375 [==============================] - 2s 5ms/step - loss: 0.0157 - accuracy: 0.9953 - val_loss: 0.1064 - val_accuracy: 0.9760\n",
            "Epoch 15/20\n",
            "375/375 [==============================] - 2s 4ms/step - loss: 0.0130 - accuracy: 0.9964 - val_loss: 0.1173 - val_accuracy: 0.9758\n",
            "Epoch 16/20\n",
            "375/375 [==============================] - 2s 4ms/step - loss: 0.0126 - accuracy: 0.9959 - val_loss: 0.1316 - val_accuracy: 0.9732\n",
            "Epoch 17/20\n",
            "375/375 [==============================] - 2s 5ms/step - loss: 0.0098 - accuracy: 0.9971 - val_loss: 0.1337 - val_accuracy: 0.9719\n",
            "Epoch 18/20\n",
            "375/375 [==============================] - 2s 5ms/step - loss: 0.0088 - accuracy: 0.9970 - val_loss: 0.1332 - val_accuracy: 0.9737\n",
            "Epoch 19/20\n",
            "375/375 [==============================] - 2s 4ms/step - loss: 0.0075 - accuracy: 0.9976 - val_loss: 0.1323 - val_accuracy: 0.9749\n",
            "Epoch 20/20\n",
            "375/375 [==============================] - 2s 5ms/step - loss: 0.0062 - accuracy: 0.9980 - val_loss: 0.1405 - val_accuracy: 0.9755\n"
          ]
        }
      ],
      "source": [
        "model = keras.Sequential([\n",
        "    layers.Dense(96, activation=\"relu\"),\n",
        "    layers.Dense(96, activation=\"relu\"),\n",
        "    layers.Dense(10, activation=\"softmax\"),\n",
        "])\n",
        "model.compile(optimizer=\"rmsprop\",\n",
        "              loss=\"sparse_categorical_crossentropy\",\n",
        "              metrics=[\"accuracy\"])\n",
        "history_large_model = model.fit(\n",
        "    train_images, train_labels,\n",
        "    epochs=20,\n",
        "    batch_size=128,\n",
        "    validation_split=0.2)"
      ]
    },
    {
      "cell_type": "code",
      "source": [
        "import matplotlib.pyplot as plt\n",
        "val_loss = history_large_model.history[\"val_loss\"]\n",
        "epochs = range(1, 21)\n",
        "plt.plot(epochs, val_loss, \"b--\",\n",
        "         label=\"Validation loss\")\n",
        "plt.title(\"Effect of large model capacity on validation loss\")\n",
        "plt.xlabel(\"Epochs\")\n",
        "plt.ylabel(\"Loss\")\n",
        "plt.legend()"
      ],
      "metadata": {
        "id": "Ml06cwU3Txfg",
        "outputId": "d38d6214-6999-4e29-e206-a3c2c0b832d5",
        "colab": {
          "base_uri": "https://localhost:8080/",
          "height": 313
        }
      },
      "execution_count": 18,
      "outputs": [
        {
          "output_type": "execute_result",
          "data": {
            "text/plain": [
              "<matplotlib.legend.Legend at 0x7ff084eb3250>"
            ]
          },
          "metadata": {},
          "execution_count": 18
        },
        {
          "output_type": "display_data",
          "data": {
            "text/plain": [
              "<Figure size 432x288 with 1 Axes>"
            ],
            "image/png": "[encoded data removed]"
          },
          "metadata": {
            "needs_background": "light"
          }
        }
      ]
    },
    {
      "cell_type": "markdown",
      "metadata": {
        "id": "pBI6vVOJ9gmd"
      },
      "source": [
        "## Improving generalization"
      ]
    },
    {
      "cell_type": "markdown",
      "metadata": {
        "id": "a2_-OoKm9gmd"
      },
      "source": [
        "### Dataset curation"
      ]
    },
    {
      "cell_type": "markdown",
      "metadata": {
        "id": "STnfbc3x9gmd"
      },
      "source": [
        "### Feature engineering"
      ]
    },
    {
      "cell_type": "markdown",
      "metadata": {
        "id": "c3boCisM9gmd"
      },
      "source": [
        "### Using early stopping"
      ]
    },
    {
      "cell_type": "markdown",
      "metadata": {
        "id": "63MEj8X79gmd"
      },
      "source": [
        "### Regularizing your model"
      ]
    },
    {
      "cell_type": "markdown",
      "metadata": {
        "id": "D5DDYXjt9gmd"
      },
      "source": [
        "#### Reducing the network's size"
      ]
    },
    {
      "cell_type": "markdown",
      "metadata": {
        "id": "0Xw03yAI9gmd"
      },
      "source": [
        "**Original model**"
      ]
    },
    {
      "cell_type": "code",
      "execution_count": 19,
      "metadata": {
        "id": "OUXIatXx9gmd",
        "outputId": "d8b8d432-1db5-458c-9212-21ff0ef1a7d5",
        "colab": {
          "base_uri": "https://localhost:8080/"
        }
      },
      "outputs": [
        {
          "output_type": "stream",
          "name": "stdout",
          "text": [
            "Downloading data from https://storage.googleapis.com/tensorflow/tf-keras-datasets/imdb.npz\n",
            "17465344/17464789 [==============================] - 0s 0us/step\n",
            "17473536/17464789 [==============================] - 0s 0us/step\n",
            "Epoch 1/20\n",
            "30/30 [==============================] - 3s 40ms/step - loss: 0.5753 - accuracy: 0.7495 - val_loss: 0.4507 - val_accuracy: 0.8645\n",
            "Epoch 2/20\n",
            "30/30 [==============================] - 1s 22ms/step - loss: 0.3648 - accuracy: 0.8921 - val_loss: 0.3409 - val_accuracy: 0.8808\n",
            "Epoch 3/20\n",
            "30/30 [==============================] - 1s 22ms/step - loss: 0.2601 - accuracy: 0.9193 - val_loss: 0.2889 - val_accuracy: 0.8906\n",
            "Epoch 4/20\n",
            "30/30 [==============================] - 1s 25ms/step - loss: 0.2028 - accuracy: 0.9346 - val_loss: 0.2928 - val_accuracy: 0.8804\n",
            "Epoch 5/20\n",
            "30/30 [==============================] - 1s 26ms/step - loss: 0.1639 - accuracy: 0.9473 - val_loss: 0.3000 - val_accuracy: 0.8780\n",
            "Epoch 6/20\n",
            "30/30 [==============================] - 1s 26ms/step - loss: 0.1375 - accuracy: 0.9572 - val_loss: 0.2795 - val_accuracy: 0.8895\n",
            "Epoch 7/20\n",
            "30/30 [==============================] - 1s 22ms/step - loss: 0.1154 - accuracy: 0.9645 - val_loss: 0.2991 - val_accuracy: 0.8845\n",
            "Epoch 8/20\n",
            "30/30 [==============================] - 1s 22ms/step - loss: 0.0961 - accuracy: 0.9717 - val_loss: 0.3113 - val_accuracy: 0.8844\n",
            "Epoch 9/20\n",
            "30/30 [==============================] - 1s 23ms/step - loss: 0.0816 - accuracy: 0.9769 - val_loss: 0.3334 - val_accuracy: 0.8819\n",
            "Epoch 10/20\n",
            "30/30 [==============================] - 1s 23ms/step - loss: 0.0666 - accuracy: 0.9831 - val_loss: 0.3484 - val_accuracy: 0.8803\n",
            "Epoch 11/20\n",
            "30/30 [==============================] - 1s 22ms/step - loss: 0.0564 - accuracy: 0.9864 - val_loss: 0.3735 - val_accuracy: 0.8796\n",
            "Epoch 12/20\n",
            "30/30 [==============================] - 1s 23ms/step - loss: 0.0470 - accuracy: 0.9889 - val_loss: 0.4046 - val_accuracy: 0.8760\n",
            "Epoch 13/20\n",
            "30/30 [==============================] - 1s 22ms/step - loss: 0.0383 - accuracy: 0.9909 - val_loss: 0.4336 - val_accuracy: 0.8745\n",
            "Epoch 14/20\n",
            "30/30 [==============================] - 1s 25ms/step - loss: 0.0293 - accuracy: 0.9942 - val_loss: 0.4716 - val_accuracy: 0.8741\n",
            "Epoch 15/20\n",
            "30/30 [==============================] - 1s 22ms/step - loss: 0.0235 - accuracy: 0.9957 - val_loss: 0.5053 - val_accuracy: 0.8722\n",
            "Epoch 16/20\n",
            "30/30 [==============================] - 1s 22ms/step - loss: 0.0193 - accuracy: 0.9964 - val_loss: 0.5531 - val_accuracy: 0.8708\n",
            "Epoch 17/20\n",
            "30/30 [==============================] - 1s 26ms/step - loss: 0.0140 - accuracy: 0.9975 - val_loss: 0.5713 - val_accuracy: 0.8702\n",
            "Epoch 18/20\n",
            "30/30 [==============================] - 1s 26ms/step - loss: 0.0108 - accuracy: 0.9983 - val_loss: 0.6151 - val_accuracy: 0.8701\n",
            "Epoch 19/20\n",
            "30/30 [==============================] - 1s 26ms/step - loss: 0.0086 - accuracy: 0.9986 - val_loss: 0.6538 - val_accuracy: 0.8699\n",
            "Epoch 20/20\n",
            "30/30 [==============================] - 1s 23ms/step - loss: 0.0071 - accuracy: 0.9987 - val_loss: 0.6907 - val_accuracy: 0.8694\n"
          ]
        }
      ],
      "source": [
        "from tensorflow.keras.datasets import imdb\n",
        "(train_data, train_labels), _ = imdb.load_data(num_words=10000)\n",
        "\n",
        "def vectorize_sequences(sequences, dimension=10000):\n",
        "    results = np.zeros((len(sequences), dimension))\n",
        "    for i, sequence in enumerate(sequences):\n",
        "        results[i, sequence] = 1.\n",
        "    return results\n",
        "train_data = vectorize_sequences(train_data)\n",
        "\n",
        "model = keras.Sequential([\n",
        "    layers.Dense(16, activation=\"relu\"),\n",
        "    layers.Dense(16, activation=\"relu\"),\n",
        "    layers.Dense(1, activation=\"sigmoid\")\n",
        "])\n",
        "model.compile(optimizer=\"rmsprop\",\n",
        "              loss=\"binary_crossentropy\",\n",
        "              metrics=[\"accuracy\"])\n",
        "history_original = model.fit(train_data, train_labels,\n",
        "                             epochs=20, batch_size=512, validation_split=0.4)"
      ]
    },
    {
      "cell_type": "markdown",
      "metadata": {
        "id": "fRFiIFdY9gmd"
      },
      "source": [
        "**Version of the model with lower capacity**"
      ]
    },
    {
      "cell_type": "code",
      "execution_count": 21,
      "metadata": {
        "id": "kTEnIe4A9gme",
        "outputId": "d8813cb6-44a1-4cbd-bda9-76a5a6831675",
        "colab": {
          "base_uri": "https://localhost:8080/"
        }
      },
      "outputs": [
        {
          "output_type": "stream",
          "name": "stdout",
          "text": [
            "Epoch 1/20\n",
            "30/30 [==============================] - 2s 37ms/step - loss: 0.5809 - accuracy: 0.7683 - val_loss: 0.4934 - val_accuracy: 0.8406\n",
            "Epoch 2/20\n",
            "30/30 [==============================] - 1s 22ms/step - loss: 0.4289 - accuracy: 0.8785 - val_loss: 0.4027 - val_accuracy: 0.8708\n",
            "Epoch 3/20\n",
            "30/30 [==============================] - 1s 22ms/step - loss: 0.3408 - accuracy: 0.9027 - val_loss: 0.3452 - val_accuracy: 0.8805\n",
            "Epoch 4/20\n",
            "30/30 [==============================] - 1s 22ms/step - loss: 0.2816 - accuracy: 0.9168 - val_loss: 0.3140 - val_accuracy: 0.8843\n",
            "Epoch 5/20\n",
            "30/30 [==============================] - 1s 23ms/step - loss: 0.2377 - accuracy: 0.9271 - val_loss: 0.2976 - val_accuracy: 0.8847\n",
            "Epoch 6/20\n",
            "30/30 [==============================] - 1s 23ms/step - loss: 0.2003 - accuracy: 0.9389 - val_loss: 0.2909 - val_accuracy: 0.8813\n",
            "Epoch 7/20\n",
            "30/30 [==============================] - 1s 22ms/step - loss: 0.1749 - accuracy: 0.9481 - val_loss: 0.2726 - val_accuracy: 0.8938\n",
            "Epoch 8/20\n",
            "30/30 [==============================] - 1s 23ms/step - loss: 0.1548 - accuracy: 0.9533 - val_loss: 0.2777 - val_accuracy: 0.8894\n",
            "Epoch 9/20\n",
            "30/30 [==============================] - 1s 23ms/step - loss: 0.1378 - accuracy: 0.9589 - val_loss: 0.2769 - val_accuracy: 0.8902\n",
            "Epoch 10/20\n",
            "30/30 [==============================] - 1s 26ms/step - loss: 0.1231 - accuracy: 0.9645 - val_loss: 0.2953 - val_accuracy: 0.8830\n",
            "Epoch 11/20\n",
            "30/30 [==============================] - 1s 23ms/step - loss: 0.1109 - accuracy: 0.9691 - val_loss: 0.2904 - val_accuracy: 0.8873\n",
            "Epoch 12/20\n",
            "30/30 [==============================] - 1s 23ms/step - loss: 0.0992 - accuracy: 0.9737 - val_loss: 0.3081 - val_accuracy: 0.8826\n",
            "Epoch 13/20\n",
            "30/30 [==============================] - 1s 23ms/step - loss: 0.0900 - accuracy: 0.9759 - val_loss: 0.3104 - val_accuracy: 0.8844\n",
            "Epoch 14/20\n",
            "30/30 [==============================] - 1s 26ms/step - loss: 0.0801 - accuracy: 0.9791 - val_loss: 0.3189 - val_accuracy: 0.8850\n",
            "Epoch 15/20\n",
            "30/30 [==============================] - 1s 26ms/step - loss: 0.0718 - accuracy: 0.9821 - val_loss: 0.3320 - val_accuracy: 0.8837\n",
            "Epoch 16/20\n",
            "30/30 [==============================] - 1s 23ms/step - loss: 0.0640 - accuracy: 0.9842 - val_loss: 0.3485 - val_accuracy: 0.8816\n",
            "Epoch 17/20\n",
            "30/30 [==============================] - 1s 25ms/step - loss: 0.0571 - accuracy: 0.9875 - val_loss: 0.3634 - val_accuracy: 0.8782\n",
            "Epoch 18/20\n",
            "30/30 [==============================] - 1s 26ms/step - loss: 0.0504 - accuracy: 0.9887 - val_loss: 0.3793 - val_accuracy: 0.8780\n",
            "Epoch 19/20\n",
            "30/30 [==============================] - 1s 26ms/step - loss: 0.0452 - accuracy: 0.9902 - val_loss: 0.3978 - val_accuracy: 0.8764\n",
            "Epoch 20/20\n",
            "30/30 [==============================] - 1s 24ms/step - loss: 0.0401 - accuracy: 0.9923 - val_loss: 0.4185 - val_accuracy: 0.8756\n"
          ]
        }
      ],
      "source": [
        "model = keras.Sequential([\n",
        "    layers.Dense(4, activation=\"relu\"),\n",
        "    layers.Dense(4, activation=\"relu\"),\n",
        "    layers.Dense(1, activation=\"sigmoid\")\n",
        "])\n",
        "model.compile(optimizer=\"rmsprop\",\n",
        "              loss=\"binary_crossentropy\",\n",
        "              metrics=[\"accuracy\"])\n",
        "history_smaller_model = model.fit(\n",
        "    train_data, train_labels,\n",
        "    epochs=20, batch_size=512, validation_split=0.4)"
      ]
    },
    {
      "cell_type": "code",
      "source": [
        "import matplotlib.pyplot as plt\n",
        "val_loss = history_original.history[\"val_loss\"]\n",
        "val_loss2 = history_smaller_model.history[\"val_loss\"]\n",
        "epochs = range(1, 21)\n",
        "plt.plot(epochs, val_loss, \"b--\",\n",
        "         label=\"Validation loss of original model\")\n",
        "plt.plot(epochs, val_loss2, \"b-\",\n",
        "         label=\"Validation loss of smaller model\")\n",
        "plt.title(\"Effect of smaller model capacity on validation loss\")\n",
        "plt.xlabel(\"Epochs\")\n",
        "plt.ylabel(\"Loss\")\n",
        "plt.legend()"
      ],
      "metadata": {
        "id": "AxoECV7uUaQy",
        "outputId": "5cd6a878-6fa1-4754-905b-3e880c259b15",
        "colab": {
          "base_uri": "https://localhost:8080/",
          "height": 313
        }
      },
      "execution_count": 22,
      "outputs": [
        {
          "output_type": "execute_result",
          "data": {
            "text/plain": [
              "<matplotlib.legend.Legend at 0x7ff0740a5290>"
            ]
          },
          "metadata": {},
          "execution_count": 22
        },
        {
          "output_type": "display_data",
          "data": {
            "text/plain": [
              "<Figure size 432x288 with 1 Axes>"
            ],
            "image/png": "[encoded data removed]"
          },
          "metadata": {
            "needs_background": "light"
          }
        }
      ]
    },
    {
      "cell_type": "markdown",
      "metadata": {
        "id": "dctFs2yh9gme"
      },
      "source": [
        "**Version of the model with higher capacity**"
      ]
    },
    {
      "cell_type": "code",
      "execution_count": 23,
      "metadata": {
        "id": "49wxRGBO9gme",
        "outputId": "80ddd5e2-769f-477a-a7c8-04d3858c4a15",
        "colab": {
          "base_uri": "https://localhost:8080/"
        }
      },
      "outputs": [
        {
          "output_type": "stream",
          "name": "stdout",
          "text": [
            "Epoch 1/20\n",
            "30/30 [==============================] - 3s 62ms/step - loss: 0.5305 - accuracy: 0.7719 - val_loss: 0.3503 - val_accuracy: 0.8483\n",
            "Epoch 2/20\n",
            "30/30 [==============================] - 2s 55ms/step - loss: 0.2512 - accuracy: 0.9022 - val_loss: 0.3322 - val_accuracy: 0.8559\n",
            "Epoch 3/20\n",
            "30/30 [==============================] - 1s 36ms/step - loss: 0.1491 - accuracy: 0.9436 - val_loss: 0.3197 - val_accuracy: 0.8862\n",
            "Epoch 4/20\n",
            "30/30 [==============================] - 1s 34ms/step - loss: 0.0684 - accuracy: 0.9777 - val_loss: 0.3993 - val_accuracy: 0.8799\n",
            "Epoch 5/20\n",
            "30/30 [==============================] - 1s 33ms/step - loss: 0.1078 - accuracy: 0.9770 - val_loss: 0.3412 - val_accuracy: 0.8879\n",
            "Epoch 6/20\n",
            "30/30 [==============================] - 1s 33ms/step - loss: 0.0060 - accuracy: 0.9995 - val_loss: 0.5198 - val_accuracy: 0.8879\n",
            "Epoch 7/20\n",
            "30/30 [==============================] - 1s 34ms/step - loss: 8.4580e-04 - accuracy: 1.0000 - val_loss: 0.6181 - val_accuracy: 0.8854\n",
            "Epoch 8/20\n",
            "30/30 [==============================] - 1s 33ms/step - loss: 1.4057e-04 - accuracy: 1.0000 - val_loss: 0.7608 - val_accuracy: 0.8868\n",
            "Epoch 9/20\n",
            "30/30 [==============================] - 1s 34ms/step - loss: 2.1076e-05 - accuracy: 1.0000 - val_loss: 0.8760 - val_accuracy: 0.8855\n",
            "Epoch 10/20\n",
            "30/30 [==============================] - 1s 33ms/step - loss: 4.7461e-06 - accuracy: 1.0000 - val_loss: 0.9608 - val_accuracy: 0.8834\n",
            "Epoch 11/20\n",
            "30/30 [==============================] - 1s 32ms/step - loss: 1.1843e-06 - accuracy: 1.0000 - val_loss: 1.0665 - val_accuracy: 0.8859\n",
            "Epoch 12/20\n",
            "30/30 [==============================] - 1s 32ms/step - loss: 3.4192e-07 - accuracy: 1.0000 - val_loss: 1.1370 - val_accuracy: 0.8842\n",
            "Epoch 13/20\n",
            "30/30 [==============================] - 1s 32ms/step - loss: 1.2477e-07 - accuracy: 1.0000 - val_loss: 1.2049 - val_accuracy: 0.8838\n",
            "Epoch 14/20\n",
            "30/30 [==============================] - 1s 32ms/step - loss: 5.2307e-08 - accuracy: 1.0000 - val_loss: 1.2615 - val_accuracy: 0.8841\n",
            "Epoch 15/20\n",
            "30/30 [==============================] - 1s 32ms/step - loss: 2.9019e-08 - accuracy: 1.0000 - val_loss: 1.2934 - val_accuracy: 0.8834\n",
            "Epoch 16/20\n",
            "30/30 [==============================] - 1s 32ms/step - loss: 1.9437e-08 - accuracy: 1.0000 - val_loss: 1.3193 - val_accuracy: 0.8839\n",
            "Epoch 17/20\n",
            "30/30 [==============================] - 1s 33ms/step - loss: 1.4529e-08 - accuracy: 1.0000 - val_loss: 1.3351 - val_accuracy: 0.8841\n",
            "Epoch 18/20\n",
            "30/30 [==============================] - 1s 31ms/step - loss: 1.1661e-08 - accuracy: 1.0000 - val_loss: 1.3536 - val_accuracy: 0.8839\n",
            "Epoch 19/20\n",
            "30/30 [==============================] - 1s 32ms/step - loss: 9.6555e-09 - accuracy: 1.0000 - val_loss: 1.3663 - val_accuracy: 0.8837\n",
            "Epoch 20/20\n",
            "30/30 [==============================] - 1s 32ms/step - loss: 8.2774e-09 - accuracy: 1.0000 - val_loss: 1.3755 - val_accuracy: 0.8836\n"
          ]
        }
      ],
      "source": [
        "model = keras.Sequential([\n",
        "    layers.Dense(512, activation=\"relu\"),\n",
        "    layers.Dense(512, activation=\"relu\"),\n",
        "    layers.Dense(1, activation=\"sigmoid\")\n",
        "])\n",
        "model.compile(optimizer=\"rmsprop\",\n",
        "              loss=\"binary_crossentropy\",\n",
        "              metrics=[\"accuracy\"])\n",
        "history_larger_model = model.fit(\n",
        "    train_data, train_labels,\n",
        "    epochs=20, batch_size=512, validation_split=0.4)"
      ]
    },
    {
      "cell_type": "code",
      "source": [
        "import matplotlib.pyplot as plt\n",
        "val_loss = history_original.history[\"val_loss\"]\n",
        "val_loss2 = history_larger_model.history[\"val_loss\"]\n",
        "epochs = range(1, 21)\n",
        "plt.plot(epochs, val_loss, \"b--\",\n",
        "         label=\"Validation loss of original model\")\n",
        "plt.plot(epochs, val_loss2, \"b-\",\n",
        "         label=\"Validation loss of larger model\")\n",
        "plt.title(\"Effect of larger model capacity on validation loss\")\n",
        "plt.xlabel(\"Epochs\")\n",
        "plt.ylabel(\"Loss\")\n",
        "plt.legend()"
      ],
      "metadata": {
        "id": "m5UD2_A0VAxv",
        "outputId": "63a068a2-897c-496a-db12-50edb5590f2b",
        "colab": {
          "base_uri": "https://localhost:8080/",
          "height": 313
        }
      },
      "execution_count": 24,
      "outputs": [
        {
          "output_type": "execute_result",
          "data": {
            "text/plain": [
              "<matplotlib.legend.Legend at 0x7ff07f3bf650>"
            ]
          },
          "metadata": {},
          "execution_count": 24
        },
        {
          "output_type": "display_data",
          "data": {
            "text/plain": [
              "<Figure size 432x288 with 1 Axes>"
            ],
            "image/png": "[encoded data removed]"
          },
          "metadata": {
            "needs_background": "light"
          }
        }
      ]
    },
    {
      "cell_type": "markdown",
      "metadata": {
        "id": "uO6MwR-y9gme"
      },
      "source": [
        "#### Adding weight regularization"
      ]
    },
    {
      "cell_type": "markdown",
      "metadata": {
        "id": "nMNX8t9z9gme"
      },
      "source": [
        "**Adding L2 weight regularization to the model**"
      ]
    },
    {
      "cell_type": "code",
      "execution_count": 25,
      "metadata": {
        "id": "FJh2qp1G9gme",
        "outputId": "6ae19545-7610-4d3e-f01e-4fda0ee5174c",
        "colab": {
          "base_uri": "https://localhost:8080/"
        }
      },
      "outputs": [
        {
          "output_type": "stream",
          "name": "stdout",
          "text": [
            "Epoch 1/20\n",
            "30/30 [==============================] - 2s 41ms/step - loss: 0.5857 - accuracy: 0.7705 - val_loss: 0.4442 - val_accuracy: 0.8744\n",
            "Epoch 2/20\n",
            "30/30 [==============================] - 1s 22ms/step - loss: 0.3855 - accuracy: 0.8979 - val_loss: 0.3803 - val_accuracy: 0.8907\n",
            "Epoch 3/20\n",
            "30/30 [==============================] - 1s 22ms/step - loss: 0.3260 - accuracy: 0.9171 - val_loss: 0.3733 - val_accuracy: 0.8828\n",
            "Epoch 4/20\n",
            "30/30 [==============================] - 1s 22ms/step - loss: 0.2921 - accuracy: 0.9297 - val_loss: 0.4286 - val_accuracy: 0.8515\n",
            "Epoch 5/20\n",
            "30/30 [==============================] - 1s 26ms/step - loss: 0.2774 - accuracy: 0.9331 - val_loss: 0.3792 - val_accuracy: 0.8791\n",
            "Epoch 6/20\n",
            "30/30 [==============================] - 1s 26ms/step - loss: 0.2634 - accuracy: 0.9369 - val_loss: 0.4036 - val_accuracy: 0.8687\n",
            "Epoch 7/20\n",
            "30/30 [==============================] - 1s 23ms/step - loss: 0.2548 - accuracy: 0.9428 - val_loss: 0.3712 - val_accuracy: 0.8827\n",
            "Epoch 8/20\n",
            "30/30 [==============================] - 1s 23ms/step - loss: 0.2488 - accuracy: 0.9441 - val_loss: 0.3725 - val_accuracy: 0.8838\n",
            "Epoch 9/20\n",
            "30/30 [==============================] - 1s 23ms/step - loss: 0.2422 - accuracy: 0.9459 - val_loss: 0.3989 - val_accuracy: 0.8753\n",
            "Epoch 10/20\n",
            "30/30 [==============================] - 1s 23ms/step - loss: 0.2361 - accuracy: 0.9491 - val_loss: 0.3856 - val_accuracy: 0.8793\n",
            "Epoch 11/20\n",
            "30/30 [==============================] - 1s 23ms/step - loss: 0.2331 - accuracy: 0.9473 - val_loss: 0.3954 - val_accuracy: 0.8779\n",
            "Epoch 12/20\n",
            "30/30 [==============================] - 1s 22ms/step - loss: 0.2344 - accuracy: 0.9500 - val_loss: 0.3959 - val_accuracy: 0.8797\n",
            "Epoch 13/20\n",
            "30/30 [==============================] - 1s 24ms/step - loss: 0.2224 - accuracy: 0.9531 - val_loss: 0.4094 - val_accuracy: 0.8756\n",
            "Epoch 14/20\n",
            "30/30 [==============================] - 1s 23ms/step - loss: 0.2237 - accuracy: 0.9543 - val_loss: 0.4089 - val_accuracy: 0.8763\n",
            "Epoch 15/20\n",
            "30/30 [==============================] - 1s 25ms/step - loss: 0.2270 - accuracy: 0.9493 - val_loss: 0.4212 - val_accuracy: 0.8758\n",
            "Epoch 16/20\n",
            "30/30 [==============================] - 1s 26ms/step - loss: 0.2143 - accuracy: 0.9576 - val_loss: 0.4078 - val_accuracy: 0.8768\n",
            "Epoch 17/20\n",
            "30/30 [==============================] - 1s 23ms/step - loss: 0.2120 - accuracy: 0.9577 - val_loss: 0.4151 - val_accuracy: 0.8751\n",
            "Epoch 18/20\n",
            "30/30 [==============================] - 1s 23ms/step - loss: 0.2150 - accuracy: 0.9567 - val_loss: 0.5508 - val_accuracy: 0.8408\n",
            "Epoch 19/20\n",
            "30/30 [==============================] - 1s 22ms/step - loss: 0.2123 - accuracy: 0.9570 - val_loss: 0.4563 - val_accuracy: 0.8673\n",
            "Epoch 20/20\n",
            "30/30 [==============================] - 1s 23ms/step - loss: 0.2058 - accuracy: 0.9597 - val_loss: 0.4733 - val_accuracy: 0.8627\n"
          ]
        }
      ],
      "source": [
        "from tensorflow.keras import regularizers\n",
        "model = keras.Sequential([\n",
        "    layers.Dense(16,\n",
        "                 kernel_regularizer=regularizers.l2(0.002),\n",
        "                 activation=\"relu\"),\n",
        "    layers.Dense(16,\n",
        "                 kernel_regularizer=regularizers.l2(0.002),\n",
        "                 activation=\"relu\"),\n",
        "    layers.Dense(1, activation=\"sigmoid\")\n",
        "])\n",
        "model.compile(optimizer=\"rmsprop\",\n",
        "              loss=\"binary_crossentropy\",\n",
        "              metrics=[\"accuracy\"])\n",
        "history_l2_reg = model.fit(\n",
        "    train_data, train_labels,\n",
        "    epochs=20, batch_size=512, validation_split=0.4)"
      ]
    },
    {
      "cell_type": "code",
      "source": [
        "import matplotlib.pyplot as plt\n",
        "val_loss = history_original.history[\"val_loss\"]\n",
        "val_loss2 = history_l2_reg.history[\"val_loss\"]\n",
        "epochs = range(1, 21)\n",
        "plt.plot(epochs, val_loss, \"b--\",\n",
        "         label=\"Validation loss of original model\")\n",
        "plt.plot(epochs, val_loss2, \"b-\",\n",
        "         label=\"Validation loss of original model of l2 regularization\")\n",
        "plt.title(\"Effect of l2 regularization on validation loss\")\n",
        "plt.xlabel(\"Epochs\")\n",
        "plt.ylabel(\"Loss\")\n",
        "plt.legend()"
      ],
      "metadata": {
        "id": "xQmY-xKi2R38",
        "outputId": "7549d968-fd77-4fa0-ae7b-2187fac2e6cb",
        "colab": {
          "base_uri": "https://localhost:8080/",
          "height": 313
        }
      },
      "execution_count": 29,
      "outputs": [
        {
          "output_type": "execute_result",
          "data": {
            "text/plain": [
              "<matplotlib.legend.Legend at 0x7ff07f464750>"
            ]
          },
          "metadata": {},
          "execution_count": 29
        },
        {
          "output_type": "display_data",
          "data": {
            "text/plain": [
              "<Figure size 432x288 with 1 Axes>"
            ],
            "image/png": "[encoded data removed]"
          },
          "metadata": {
            "needs_background": "light"
          }
        }
      ]
    },
    {
      "cell_type": "markdown",
      "metadata": {
        "id": "F-nMZ1UO9gme"
      },
      "source": [
        "**Different weight regularizers available in Keras**"
      ]
    },
    {
      "cell_type": "code",
      "execution_count": 27,
      "metadata": {
        "id": "lSbVjBvG9gmf",
        "outputId": "859dd7cc-8eaa-44b7-c866-ee59a5936972",
        "colab": {
          "base_uri": "https://localhost:8080/"
        }
      },
      "outputs": [
        {
          "output_type": "execute_result",
          "data": {
            "text/plain": [
              "<keras.regularizers.L1L2 at 0x7ff084dfa810>"
            ]
          },
          "metadata": {},
          "execution_count": 27
        }
      ],
      "source": [
        "from tensorflow.keras import regularizers\n",
        "regularizers.l1(0.001)\n",
        "regularizers.l1_l2(l1=0.001, l2=0.001)"
      ]
    },
    {
      "cell_type": "markdown",
      "metadata": {
        "id": "_Nl73j1Q9gmf"
      },
      "source": [
        "#### Adding dropout"
      ]
    },
    {
      "cell_type": "markdown",
      "metadata": {
        "id": "eU2HTKVo9gmf"
      },
      "source": [
        "**Adding dropout to the IMDB model**"
      ]
    },
    {
      "cell_type": "code",
      "execution_count": 28,
      "metadata": {
        "id": "uBGrv6zj9gmf",
        "outputId": "64ce3dde-1d1d-4d48-bee0-e067030ca002",
        "colab": {
          "base_uri": "https://localhost:8080/"
        }
      },
      "outputs": [
        {
          "output_type": "stream",
          "name": "stdout",
          "text": [
            "Epoch 1/20\n",
            "30/30 [==============================] - 2s 41ms/step - loss: 0.6303 - accuracy: 0.6335 - val_loss: 0.5100 - val_accuracy: 0.8444\n",
            "Epoch 2/20\n",
            "30/30 [==============================] - 1s 26ms/step - loss: 0.5031 - accuracy: 0.7685 - val_loss: 0.4012 - val_accuracy: 0.8723\n",
            "Epoch 3/20\n",
            "30/30 [==============================] - 1s 24ms/step - loss: 0.4222 - accuracy: 0.8293 - val_loss: 0.3519 - val_accuracy: 0.8704\n",
            "Epoch 4/20\n",
            "30/30 [==============================] - 1s 25ms/step - loss: 0.3610 - accuracy: 0.8645 - val_loss: 0.2964 - val_accuracy: 0.8886\n",
            "Epoch 5/20\n",
            "30/30 [==============================] - 1s 26ms/step - loss: 0.3104 - accuracy: 0.8905 - val_loss: 0.2780 - val_accuracy: 0.8919\n",
            "Epoch 6/20\n",
            "30/30 [==============================] - 1s 24ms/step - loss: 0.2677 - accuracy: 0.9059 - val_loss: 0.2755 - val_accuracy: 0.8885\n",
            "Epoch 7/20\n",
            "30/30 [==============================] - 1s 26ms/step - loss: 0.2378 - accuracy: 0.9203 - val_loss: 0.2753 - val_accuracy: 0.8927\n",
            "Epoch 8/20\n",
            "30/30 [==============================] - 1s 23ms/step - loss: 0.2069 - accuracy: 0.9333 - val_loss: 0.2785 - val_accuracy: 0.8921\n",
            "Epoch 9/20\n",
            "30/30 [==============================] - 1s 23ms/step - loss: 0.1864 - accuracy: 0.9412 - val_loss: 0.2943 - val_accuracy: 0.8905\n",
            "Epoch 10/20\n",
            "30/30 [==============================] - 1s 26ms/step - loss: 0.1666 - accuracy: 0.9477 - val_loss: 0.3118 - val_accuracy: 0.8889\n",
            "Epoch 11/20\n",
            "30/30 [==============================] - 1s 22ms/step - loss: 0.1500 - accuracy: 0.9519 - val_loss: 0.3464 - val_accuracy: 0.8892\n",
            "Epoch 12/20\n",
            "30/30 [==============================] - 1s 23ms/step - loss: 0.1349 - accuracy: 0.9579 - val_loss: 0.3593 - val_accuracy: 0.8880\n",
            "Epoch 13/20\n",
            "30/30 [==============================] - 1s 23ms/step - loss: 0.1198 - accuracy: 0.9603 - val_loss: 0.4039 - val_accuracy: 0.8881\n",
            "Epoch 14/20\n",
            "30/30 [==============================] - 1s 23ms/step - loss: 0.1097 - accuracy: 0.9671 - val_loss: 0.4075 - val_accuracy: 0.8868\n",
            "Epoch 15/20\n",
            "30/30 [==============================] - 1s 23ms/step - loss: 0.1010 - accuracy: 0.9696 - val_loss: 0.4242 - val_accuracy: 0.8891\n",
            "Epoch 16/20\n",
            "30/30 [==============================] - 1s 26ms/step - loss: 0.0919 - accuracy: 0.9699 - val_loss: 0.4658 - val_accuracy: 0.8879\n",
            "Epoch 17/20\n",
            "30/30 [==============================] - 1s 24ms/step - loss: 0.0916 - accuracy: 0.9733 - val_loss: 0.4736 - val_accuracy: 0.8867\n",
            "Epoch 18/20\n",
            "30/30 [==============================] - 1s 26ms/step - loss: 0.0833 - accuracy: 0.9752 - val_loss: 0.5127 - val_accuracy: 0.8859\n",
            "Epoch 19/20\n",
            "30/30 [==============================] - 1s 23ms/step - loss: 0.0827 - accuracy: 0.9754 - val_loss: 0.5401 - val_accuracy: 0.8863\n",
            "Epoch 20/20\n",
            "30/30 [==============================] - 1s 25ms/step - loss: 0.0802 - accuracy: 0.9755 - val_loss: 0.5446 - val_accuracy: 0.8856\n"
          ]
        }
      ],
      "source": [
        "model = keras.Sequential([\n",
        "    layers.Dense(16, activation=\"relu\"),\n",
        "    layers.Dropout(0.5),\n",
        "    layers.Dense(16, activation=\"relu\"),\n",
        "    layers.Dropout(0.5),\n",
        "    layers.Dense(1, activation=\"sigmoid\")\n",
        "])\n",
        "model.compile(optimizer=\"rmsprop\",\n",
        "              loss=\"binary_crossentropy\",\n",
        "              metrics=[\"accuracy\"])\n",
        "history_dropout = model.fit(\n",
        "    train_data, train_labels,\n",
        "    epochs=20, batch_size=512, validation_split=0.4)"
      ]
    },
    {
      "cell_type": "code",
      "source": [
        "import matplotlib.pyplot as plt\n",
        "val_loss = history_original.history[\"val_loss\"]\n",
        "val_loss2 = history_dropout.history[\"val_loss\"]\n",
        "epochs = range(1, 21)\n",
        "plt.plot(epochs, val_loss, \"b--\",\n",
        "         label=\"Validation loss of original model\")\n",
        "plt.plot(epochs, val_loss2, \"b-\",\n",
        "         label=\"Validation loss of original model of dropout\")\n",
        "plt.title(\"Effect of dropout regularization model capacity on validation loss\")\n",
        "plt.xlabel(\"Epochs\")\n",
        "plt.ylabel(\"Loss\")\n",
        "plt.legend()"
      ],
      "metadata": {
        "id": "tX4INdmt2eix",
        "outputId": "293f2629-1ba4-487c-8229-8bdd50a86872",
        "colab": {
          "base_uri": "https://localhost:8080/",
          "height": 313
        }
      },
      "execution_count": 30,
      "outputs": [
        {
          "output_type": "execute_result",
          "data": {
            "text/plain": [
              "<matplotlib.legend.Legend at 0x7ff07f464390>"
            ]
          },
          "metadata": {},
          "execution_count": 30
        },
        {
          "output_type": "display_data",
          "data": {
            "text/plain": [
              "<Figure size 432x288 with 1 Axes>"
            ],
            "image/png": "[encoded data removed]"
          },
          "metadata": {
            "needs_background": "light"
          }
        }
      ]
    },
    {
      "cell_type": "markdown",
      "metadata": {
        "id": "4WZauqSo9gmf"
      },
      "source": [
        "## Summary"
      ]
    }
  ],
  "metadata": {
    "colab": {
      "collapsed_sections": [],
      "name": "chapter05_fundamentals-of-ml.i",
      "provenance": [],
      "toc_visible": true
    },
    "kernelspec": {
      "display_name": "Python 3",
      "language": "python",
      "name": "python3"
    },
    "language_info": {
      "codemirror_mode": {
        "name": "ipython",
        "version": 3
      },
      "file_extension": ".py",
      "mimetype": "text/x-python",
      "name": "python",
      "nbconvert_exporter": "python",
      "pygments_lexer": "ipython3",
      "version": "3.7.0"
    },
    "accelerator": "GPU"
  },
  "nbformat": 4,
  "nbformat_minor": 0
}