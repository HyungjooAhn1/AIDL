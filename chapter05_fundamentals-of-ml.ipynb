{
  "cells": [
    {
      "cell_type": "markdown",
      "metadata": {
        "id": "jremLfFS9gmQ"
      },
      "source": [
        "This is a companion notebook for the book [Deep Learning with Python, Second Edition](https://www.manning.com/books/deep-learning-with-python-second-edition?a_aid=keras&a_bid=76564dff). For readability, it only contains runnable code blocks and section titles, and omits everything else in the book: text paragraphs, figures, and pseudocode.\n",
        "\n",
        "**If you want to be able to follow what's going on, I recommend reading the notebook side by side with your copy of the book.**\n",
        "\n",
        "This notebook was generated for TensorFlow 2.6."
      ]
    },
    {
      "cell_type": "markdown",
      "metadata": {
        "id": "knRSioSa9gmS"
      },
      "source": [
        "# Fundamentals of machine learning"
      ]
    },
    {
      "cell_type": "markdown",
      "metadata": {
        "id": "WdYP9yMQ9gmT"
      },
      "source": [
        "## Generalization: The goal of machine learning"
      ]
    },
    {
      "cell_type": "markdown",
      "metadata": {
        "id": "mcYn8ccq9gmT"
      },
      "source": [
        "### Underfitting and overfitting"
      ]
    },
    {
      "cell_type": "markdown",
      "metadata": {
        "id": "KTZuNgQT9gmT"
      },
      "source": [
        "#### Noisy training data"
      ]
    },
    {
      "cell_type": "markdown",
      "metadata": {
        "id": "eDbUHG729gmU"
      },
      "source": [
        "#### Ambiguous features"
      ]
    },
    {
      "cell_type": "markdown",
      "metadata": {
        "id": "d-yjOUK79gmU"
      },
      "source": [
        "#### Rare features and spurious correlations"
      ]
    },
    {
      "cell_type": "markdown",
      "metadata": {
        "id": "KVTX0nl49gmV"
      },
      "source": [
        "**Adding white-noise channels or all-zeros channels to MNIST**"
      ]
    },
    {
      "cell_type": "code",
      "execution_count": 1,
      "metadata": {
        "id": "stlt6cNF9gmV",
        "outputId": "f44e7fda-9f25-499a-966f-a4d45124553c",
        "colab": {
          "base_uri": "https://localhost:8080/"
        }
      },
      "outputs": [
        {
          "output_type": "stream",
          "name": "stdout",
          "text": [
            "Downloading data from https://storage.googleapis.com/tensorflow/tf-keras-datasets/mnist.npz\n",
            "11493376/11490434 [==============================] - 0s 0us/step\n",
            "11501568/11490434 [==============================] - 0s 0us/step\n"
          ]
        }
      ],
      "source": [
        "from tensorflow.keras.datasets import mnist\n",
        "import numpy as np\n",
        "\n",
        "(train_images, train_labels), _ = mnist.load_data()\n",
        "train_images = train_images.reshape((60000, 28 * 28))\n",
        "train_images = train_images.astype(\"float32\") / 255\n",
        "\n",
        "train_images_with_noise_channels = np.concatenate(\n",
        "    [train_images, np.random.random((len(train_images), 784))], axis=1)\n",
        "\n",
        "train_images_with_zeros_channels = np.concatenate(\n",
        "    [train_images, np.zeros((len(train_images), 784))], axis=1)"
      ]
    },
    {
      "cell_type": "code",
      "source": [
        "train_images.shape"
      ],
      "metadata": {
        "id": "8C5z8olFC103",
        "outputId": "35419866-8e2b-413f-9a7a-46e94fd99500",
        "colab": {
          "base_uri": "https://localhost:8080/"
        }
      },
      "execution_count": 2,
      "outputs": [
        {
          "output_type": "execute_result",
          "data": {
            "text/plain": [
              "(60000, 784)"
            ]
          },
          "metadata": {},
          "execution_count": 2
        }
      ]
    },
    {
      "cell_type": "code",
      "source": [
        "(len(train_images), 784)"
      ],
      "metadata": {
        "id": "z32JfFQFC4xY",
        "outputId": "e555e3cd-380b-48c0-d3eb-5c6281d97b65",
        "colab": {
          "base_uri": "https://localhost:8080/"
        }
      },
      "execution_count": 3,
      "outputs": [
        {
          "output_type": "execute_result",
          "data": {
            "text/plain": [
              "(60000, 784)"
            ]
          },
          "metadata": {},
          "execution_count": 3
        }
      ]
    },
    {
      "cell_type": "code",
      "source": [
        "train_images_with_noise_channels.shape"
      ],
      "metadata": {
        "id": "zWQR877TDBX1",
        "outputId": "32fd05ed-0ab8-4469-e21b-30ce55a8be15",
        "colab": {
          "base_uri": "https://localhost:8080/"
        }
      },
      "execution_count": 4,
      "outputs": [
        {
          "output_type": "execute_result",
          "data": {
            "text/plain": [
              "(60000, 1568)"
            ]
          },
          "metadata": {},
          "execution_count": 4
        }
      ]
    },
    {
      "cell_type": "code",
      "source": [
        "train_labels.shape"
      ],
      "metadata": {
        "id": "rRn0IK7IDl3g",
        "outputId": "dfdf67e9-5832-42f5-fe1e-f85bc5d97df7",
        "colab": {
          "base_uri": "https://localhost:8080/"
        }
      },
      "execution_count": 5,
      "outputs": [
        {
          "output_type": "execute_result",
          "data": {
            "text/plain": [
              "(60000,)"
            ]
          },
          "metadata": {},
          "execution_count": 5
        }
      ]
    },
    {
      "cell_type": "markdown",
      "metadata": {
        "id": "qrzNtvoo9gmW"
      },
      "source": [
        "**Training the same model on MNIST data with noise channels or all-zero channels**"
      ]
    },
    {
      "cell_type": "code",
      "execution_count": 6,
      "metadata": {
        "id": "zFiaKmMy9gmX",
        "outputId": "f98698c5-b597-40be-f4bb-7494f5c265da",
        "colab": {
          "base_uri": "https://localhost:8080/"
        }
      },
      "outputs": [
        {
          "output_type": "stream",
          "name": "stdout",
          "text": [
            "Epoch 1/10\n",
            "375/375 [==============================] - 8s 19ms/step - loss: 0.6133 - accuracy: 0.8135 - val_loss: 0.2788 - val_accuracy: 0.9146\n",
            "Epoch 2/10\n",
            "375/375 [==============================] - 7s 18ms/step - loss: 0.2432 - accuracy: 0.9237 - val_loss: 0.2751 - val_accuracy: 0.9094\n",
            "Epoch 3/10\n",
            "375/375 [==============================] - 7s 19ms/step - loss: 0.1608 - accuracy: 0.9496 - val_loss: 0.1557 - val_accuracy: 0.9546\n",
            "Epoch 4/10\n",
            "375/375 [==============================] - 7s 19ms/step - loss: 0.1113 - accuracy: 0.9657 - val_loss: 0.1783 - val_accuracy: 0.9456\n",
            "Epoch 5/10\n",
            "375/375 [==============================] - 7s 19ms/step - loss: 0.0798 - accuracy: 0.9742 - val_loss: 0.1446 - val_accuracy: 0.9587\n",
            "Epoch 6/10\n",
            "375/375 [==============================] - 7s 19ms/step - loss: 0.0585 - accuracy: 0.9808 - val_loss: 0.1395 - val_accuracy: 0.9616\n",
            "Epoch 7/10\n",
            "375/375 [==============================] - 7s 19ms/step - loss: 0.0444 - accuracy: 0.9856 - val_loss: 0.1852 - val_accuracy: 0.9515\n",
            "Epoch 8/10\n",
            "375/375 [==============================] - 7s 18ms/step - loss: 0.0343 - accuracy: 0.9884 - val_loss: 0.1376 - val_accuracy: 0.9667\n",
            "Epoch 9/10\n",
            "375/375 [==============================] - 7s 18ms/step - loss: 0.0265 - accuracy: 0.9916 - val_loss: 0.1280 - val_accuracy: 0.9677\n",
            "Epoch 10/10\n",
            "375/375 [==============================] - 7s 18ms/step - loss: 0.0206 - accuracy: 0.9932 - val_loss: 0.1767 - val_accuracy: 0.9603\n",
            "Epoch 1/10\n",
            "375/375 [==============================] - 8s 20ms/step - loss: 0.2891 - accuracy: 0.9155 - val_loss: 0.1534 - val_accuracy: 0.9542\n",
            "Epoch 2/10\n",
            "375/375 [==============================] - 7s 19ms/step - loss: 0.1189 - accuracy: 0.9652 - val_loss: 0.1115 - val_accuracy: 0.9679\n",
            "Epoch 3/10\n",
            "375/375 [==============================] - 7s 19ms/step - loss: 0.0769 - accuracy: 0.9769 - val_loss: 0.0911 - val_accuracy: 0.9728\n",
            "Epoch 4/10\n",
            "375/375 [==============================] - 7s 19ms/step - loss: 0.0555 - accuracy: 0.9841 - val_loss: 0.0947 - val_accuracy: 0.9727\n",
            "Epoch 5/10\n",
            "375/375 [==============================] - 7s 19ms/step - loss: 0.0417 - accuracy: 0.9877 - val_loss: 0.0852 - val_accuracy: 0.9762\n",
            "Epoch 6/10\n",
            "375/375 [==============================] - 7s 19ms/step - loss: 0.0310 - accuracy: 0.9911 - val_loss: 0.0826 - val_accuracy: 0.9768\n",
            "Epoch 7/10\n",
            "375/375 [==============================] - 7s 19ms/step - loss: 0.0242 - accuracy: 0.9925 - val_loss: 0.0822 - val_accuracy: 0.9780\n",
            "Epoch 8/10\n",
            "375/375 [==============================] - 7s 19ms/step - loss: 0.0183 - accuracy: 0.9949 - val_loss: 0.0808 - val_accuracy: 0.9789\n",
            "Epoch 9/10\n",
            "375/375 [==============================] - 7s 19ms/step - loss: 0.0137 - accuracy: 0.9961 - val_loss: 0.0832 - val_accuracy: 0.9787\n",
            "Epoch 10/10\n",
            "375/375 [==============================] - 7s 19ms/step - loss: 0.0106 - accuracy: 0.9971 - val_loss: 0.0866 - val_accuracy: 0.9789\n"
          ]
        }
      ],
      "source": [
        "from tensorflow import keras\n",
        "from tensorflow.keras import layers\n",
        "\n",
        "def get_model():\n",
        "    model = keras.Sequential([\n",
        "        layers.Dense(512, activation=\"relu\"),\n",
        "        layers.Dense(10, activation=\"softmax\")\n",
        "    ])\n",
        "    model.compile(optimizer=\"rmsprop\",\n",
        "                  loss=\"sparse_categorical_crossentropy\",\n",
        "                  metrics=[\"accuracy\"])\n",
        "    return model\n",
        "\n",
        "model = get_model()\n",
        "history_noise = model.fit(\n",
        "    train_images_with_noise_channels, train_labels,\n",
        "    epochs=10,\n",
        "    batch_size=128,\n",
        "    validation_split=0.2)\n",
        "\n",
        "model = get_model()\n",
        "history_zeros = model.fit(\n",
        "    train_images_with_zeros_channels, train_labels,\n",
        "    epochs=10,\n",
        "    batch_size=128,\n",
        "    validation_split=0.2)"
      ]
    },
    {
      "cell_type": "code",
      "source": [
        "model = get_model()\n",
        "history = model.fit(\n",
        "    train_images, train_labels,\n",
        "    epochs=10,\n",
        "    batch_size=128,\n",
        "    validation_split=0.2)"
      ],
      "metadata": {
        "id": "SvFToUiSEeAr",
        "outputId": "9a7f04eb-4c11-4609-a7d8-03f0023af57e",
        "colab": {
          "base_uri": "https://localhost:8080/"
        }
      },
      "execution_count": 7,
      "outputs": [
        {
          "output_type": "stream",
          "name": "stdout",
          "text": [
            "Epoch 1/10\n",
            "375/375 [==============================] - 5s 11ms/step - loss: 0.2876 - accuracy: 0.9169 - val_loss: 0.1505 - val_accuracy: 0.9563\n",
            "Epoch 2/10\n",
            "375/375 [==============================] - 4s 11ms/step - loss: 0.1188 - accuracy: 0.9649 - val_loss: 0.1069 - val_accuracy: 0.9685\n",
            "Epoch 3/10\n",
            "375/375 [==============================] - 4s 10ms/step - loss: 0.0772 - accuracy: 0.9771 - val_loss: 0.0901 - val_accuracy: 0.9735\n",
            "Epoch 4/10\n",
            "375/375 [==============================] - 4s 11ms/step - loss: 0.0555 - accuracy: 0.9833 - val_loss: 0.0866 - val_accuracy: 0.9742\n",
            "Epoch 5/10\n",
            "375/375 [==============================] - 4s 11ms/step - loss: 0.0412 - accuracy: 0.9876 - val_loss: 0.0890 - val_accuracy: 0.9735\n",
            "Epoch 6/10\n",
            "375/375 [==============================] - 4s 11ms/step - loss: 0.0297 - accuracy: 0.9911 - val_loss: 0.0820 - val_accuracy: 0.9776\n",
            "Epoch 7/10\n",
            "375/375 [==============================] - 4s 11ms/step - loss: 0.0231 - accuracy: 0.9935 - val_loss: 0.0877 - val_accuracy: 0.9772\n",
            "Epoch 8/10\n",
            "375/375 [==============================] - 4s 11ms/step - loss: 0.0175 - accuracy: 0.9954 - val_loss: 0.0837 - val_accuracy: 0.9783\n",
            "Epoch 9/10\n",
            "375/375 [==============================] - 4s 11ms/step - loss: 0.0135 - accuracy: 0.9961 - val_loss: 0.0818 - val_accuracy: 0.9789\n",
            "Epoch 10/10\n",
            "375/375 [==============================] - 4s 10ms/step - loss: 0.0107 - accuracy: 0.9970 - val_loss: 0.0875 - val_accuracy: 0.9773\n"
          ]
        }
      ]
    },
    {
      "cell_type": "markdown",
      "metadata": {
        "id": "W0xFNKh-9gmX"
      },
      "source": [
        "**Plotting a validation accuracy comparison**"
      ]
    },
    {
      "cell_type": "code",
      "execution_count": 8,
      "metadata": {
        "id": "pX10JGko9gmY",
        "outputId": "93c635bb-e1e4-495e-8825-056bf5f2e5c6",
        "colab": {
          "base_uri": "https://localhost:8080/",
          "height": 313
        }
      },
      "outputs": [
        {
          "output_type": "execute_result",
          "data": {
            "text/plain": [
              "<matplotlib.legend.Legend at 0x7fc1f41abcd0>"
            ]
          },
          "metadata": {},
          "execution_count": 8
        },
        {
          "output_type": "display_data",
          "data": {
            "text/plain": [
              "<Figure size 432x288 with 1 Axes>"
            ],
            "image/png": "[encoded data removed]"
          },
          "metadata": {
            "needs_background": "light"
          }
        }
      ],
      "source": [
        "import matplotlib.pyplot as plt\n",
        "val_acc_noise = history_noise.history[\"val_accuracy\"]\n",
        "val_acc_zeros = history_zeros.history[\"val_accuracy\"]\n",
        "epochs = range(1, 11)\n",
        "plt.plot(epochs, val_acc_noise, \"b-\",\n",
        "         label=\"Validation accuracy with noise channels\")\n",
        "plt.plot(epochs, val_acc_zeros, \"b--\",\n",
        "         label=\"Validation accuracy with zeros channels\")\n",
        "plt.title(\"Effect of noise channels on validation accuracy\")\n",
        "plt.xlabel(\"Epochs\")\n",
        "plt.ylabel(\"Accuracy\")\n",
        "plt.legend()"
      ]
    },
    {
      "cell_type": "code",
      "source": [
        "val_acc1 = history.history[\"val_accuracy\"]\n",
        "val_acc_zeros = history_zeros.history[\"val_accuracy\"]\n",
        "epochs = range(1, 11)\n",
        "plt.plot(epochs, val_acc1, \"b-\",\n",
        "         label=\"Validation accuracy with original data\")\n",
        "plt.plot(epochs, val_acc_zeros, \"b--\",\n",
        "         label=\"Validation accuracy with zeros channels\")\n",
        "plt.title(\"Effect of noise channels on validation accuracy\")\n",
        "plt.xlabel(\"Epochs\")\n",
        "plt.ylabel(\"Accuracy\")\n",
        "plt.legend()"
      ],
      "metadata": {
        "id": "FY2hs2WWE20W",
        "outputId": "825d2859-b756-480f-cba0-928bf5a75db4",
        "colab": {
          "base_uri": "https://localhost:8080/",
          "height": 313
        }
      },
      "execution_count": 11,
      "outputs": [
        {
          "output_type": "execute_result",
          "data": {
            "text/plain": [
              "<matplotlib.legend.Legend at 0x7fc1f419ecd0>"
            ]
          },
          "metadata": {},
          "execution_count": 11
        },
        {
          "output_type": "display_data",
          "data": {
            "text/plain": [
              "<Figure size 432x288 with 1 Axes>"
            ],
            "image/png": "[encoded data removed]"
          },
          "metadata": {
            "needs_background": "light"
          }
        }
      ]
    },
    {
      "cell_type": "markdown",
      "metadata": {
        "id": "dUTnl_0U9gmY"
      },
      "source": [
        "### The nature of generalization in deep learning"
      ]
    },
    {
      "cell_type": "markdown",
      "metadata": {
        "id": "0PQ_l9Ab9gmY"
      },
      "source": [
        "**Fitting a MNIST model with randomly shuffled labels**"
      ]
    },
    {
      "cell_type": "code",
      "execution_count": 12,
      "metadata": {
        "id": "TSkK7PKz9gmZ",
        "outputId": "fc5cab66-26ef-48f2-c050-bf16b90f3008",
        "colab": {
          "base_uri": "https://localhost:8080/"
        }
      },
      "outputs": [
        {
          "output_type": "stream",
          "name": "stdout",
          "text": [
            "Epoch 1/100\n",
            "375/375 [==============================] - 5s 11ms/step - loss: 2.3176 - accuracy: 0.1035 - val_loss: 2.3065 - val_accuracy: 0.1032\n",
            "Epoch 2/100\n",
            "375/375 [==============================] - 4s 11ms/step - loss: 2.3005 - accuracy: 0.1181 - val_loss: 2.3112 - val_accuracy: 0.1029\n",
            "Epoch 3/100\n",
            "375/375 [==============================] - 4s 11ms/step - loss: 2.2906 - accuracy: 0.1277 - val_loss: 2.3191 - val_accuracy: 0.1014\n",
            "Epoch 4/100\n",
            "375/375 [==============================] - 4s 11ms/step - loss: 2.2766 - accuracy: 0.1405 - val_loss: 2.3265 - val_accuracy: 0.1015\n",
            "Epoch 5/100\n",
            "375/375 [==============================] - 4s 11ms/step - loss: 2.2594 - accuracy: 0.1538 - val_loss: 2.3353 - val_accuracy: 0.1040\n",
            "Epoch 6/100\n",
            "375/375 [==============================] - 4s 11ms/step - loss: 2.2385 - accuracy: 0.1670 - val_loss: 2.3502 - val_accuracy: 0.1018\n",
            "Epoch 7/100\n",
            "375/375 [==============================] - 4s 11ms/step - loss: 2.2132 - accuracy: 0.1827 - val_loss: 2.3687 - val_accuracy: 0.0997\n",
            "Epoch 8/100\n",
            "375/375 [==============================] - 4s 11ms/step - loss: 2.1858 - accuracy: 0.2015 - val_loss: 2.3922 - val_accuracy: 0.0983\n",
            "Epoch 9/100\n",
            "375/375 [==============================] - 4s 11ms/step - loss: 2.1551 - accuracy: 0.2150 - val_loss: 2.4018 - val_accuracy: 0.1009\n",
            "Epoch 10/100\n",
            "375/375 [==============================] - 4s 12ms/step - loss: 2.1229 - accuracy: 0.2337 - val_loss: 2.4364 - val_accuracy: 0.1042\n",
            "Epoch 11/100\n",
            "375/375 [==============================] - 4s 11ms/step - loss: 2.0905 - accuracy: 0.2447 - val_loss: 2.4524 - val_accuracy: 0.0998\n",
            "Epoch 12/100\n",
            "375/375 [==============================] - 4s 11ms/step - loss: 2.0564 - accuracy: 0.2621 - val_loss: 2.4798 - val_accuracy: 0.0997\n",
            "Epoch 13/100\n",
            "375/375 [==============================] - 4s 11ms/step - loss: 2.0209 - accuracy: 0.2806 - val_loss: 2.5080 - val_accuracy: 0.1018\n",
            "Epoch 14/100\n",
            "375/375 [==============================] - 4s 10ms/step - loss: 1.9852 - accuracy: 0.2953 - val_loss: 2.5367 - val_accuracy: 0.0993\n",
            "Epoch 15/100\n",
            "375/375 [==============================] - 4s 11ms/step - loss: 1.9523 - accuracy: 0.3086 - val_loss: 2.5666 - val_accuracy: 0.1001\n",
            "Epoch 16/100\n",
            "375/375 [==============================] - 4s 11ms/step - loss: 1.9157 - accuracy: 0.3235 - val_loss: 2.6017 - val_accuracy: 0.0997\n",
            "Epoch 17/100\n",
            "375/375 [==============================] - 4s 11ms/step - loss: 1.8813 - accuracy: 0.3360 - val_loss: 2.6288 - val_accuracy: 0.0970\n",
            "Epoch 18/100\n",
            "375/375 [==============================] - 4s 11ms/step - loss: 1.8466 - accuracy: 0.3519 - val_loss: 2.6693 - val_accuracy: 0.0974\n",
            "Epoch 19/100\n",
            "375/375 [==============================] - 4s 11ms/step - loss: 1.8118 - accuracy: 0.3672 - val_loss: 2.7109 - val_accuracy: 0.1013\n",
            "Epoch 20/100\n",
            "375/375 [==============================] - 4s 11ms/step - loss: 1.7786 - accuracy: 0.3790 - val_loss: 2.7489 - val_accuracy: 0.0995\n",
            "Epoch 21/100\n",
            "375/375 [==============================] - 4s 11ms/step - loss: 1.7464 - accuracy: 0.3902 - val_loss: 2.7889 - val_accuracy: 0.0983\n",
            "Epoch 22/100\n",
            "375/375 [==============================] - 4s 11ms/step - loss: 1.7158 - accuracy: 0.4056 - val_loss: 2.8149 - val_accuracy: 0.0984\n",
            "Epoch 23/100\n",
            "375/375 [==============================] - 4s 11ms/step - loss: 1.6830 - accuracy: 0.4172 - val_loss: 2.8566 - val_accuracy: 0.0972\n",
            "Epoch 24/100\n",
            "375/375 [==============================] - 4s 11ms/step - loss: 1.6543 - accuracy: 0.4302 - val_loss: 2.8895 - val_accuracy: 0.0976\n",
            "Epoch 25/100\n",
            "375/375 [==============================] - 4s 11ms/step - loss: 1.6235 - accuracy: 0.4421 - val_loss: 2.9532 - val_accuracy: 0.0969\n",
            "Epoch 26/100\n",
            "375/375 [==============================] - 4s 11ms/step - loss: 1.5945 - accuracy: 0.4503 - val_loss: 2.9714 - val_accuracy: 0.0978\n",
            "Epoch 27/100\n",
            "375/375 [==============================] - 4s 11ms/step - loss: 1.5649 - accuracy: 0.4602 - val_loss: 3.0143 - val_accuracy: 0.0954\n",
            "Epoch 28/100\n",
            "375/375 [==============================] - 4s 11ms/step - loss: 1.5383 - accuracy: 0.4715 - val_loss: 3.0630 - val_accuracy: 0.0983\n",
            "Epoch 29/100\n",
            "375/375 [==============================] - 4s 11ms/step - loss: 1.5088 - accuracy: 0.4820 - val_loss: 3.1561 - val_accuracy: 0.0960\n",
            "Epoch 30/100\n",
            "375/375 [==============================] - 4s 11ms/step - loss: 1.4840 - accuracy: 0.4930 - val_loss: 3.1809 - val_accuracy: 0.0954\n",
            "Epoch 31/100\n",
            "375/375 [==============================] - 4s 11ms/step - loss: 1.4565 - accuracy: 0.5026 - val_loss: 3.2153 - val_accuracy: 0.0974\n",
            "Epoch 32/100\n",
            "375/375 [==============================] - 4s 11ms/step - loss: 1.4292 - accuracy: 0.5124 - val_loss: 3.2582 - val_accuracy: 0.0926\n",
            "Epoch 33/100\n",
            "375/375 [==============================] - 4s 11ms/step - loss: 1.4080 - accuracy: 0.5190 - val_loss: 3.3122 - val_accuracy: 0.0997\n",
            "Epoch 34/100\n",
            "375/375 [==============================] - 4s 11ms/step - loss: 1.3838 - accuracy: 0.5281 - val_loss: 3.3614 - val_accuracy: 0.1015\n",
            "Epoch 35/100\n",
            "375/375 [==============================] - 4s 11ms/step - loss: 1.3585 - accuracy: 0.5375 - val_loss: 3.4065 - val_accuracy: 0.0970\n",
            "Epoch 36/100\n",
            "375/375 [==============================] - 4s 11ms/step - loss: 1.3384 - accuracy: 0.5424 - val_loss: 3.4242 - val_accuracy: 0.0965\n",
            "Epoch 37/100\n",
            "375/375 [==============================] - 4s 11ms/step - loss: 1.3145 - accuracy: 0.5543 - val_loss: 3.5132 - val_accuracy: 0.0952\n",
            "Epoch 38/100\n",
            "375/375 [==============================] - 4s 12ms/step - loss: 1.2893 - accuracy: 0.5637 - val_loss: 3.5395 - val_accuracy: 0.0963\n",
            "Epoch 39/100\n",
            "375/375 [==============================] - 4s 11ms/step - loss: 1.2698 - accuracy: 0.5715 - val_loss: 3.5832 - val_accuracy: 0.0991\n",
            "Epoch 40/100\n",
            "375/375 [==============================] - 4s 11ms/step - loss: 1.2469 - accuracy: 0.5796 - val_loss: 3.6782 - val_accuracy: 0.0982\n",
            "Epoch 41/100\n",
            "375/375 [==============================] - 4s 11ms/step - loss: 1.2275 - accuracy: 0.5857 - val_loss: 3.6757 - val_accuracy: 0.0978\n",
            "Epoch 42/100\n",
            "375/375 [==============================] - 4s 11ms/step - loss: 1.2055 - accuracy: 0.5928 - val_loss: 3.7582 - val_accuracy: 0.0941\n",
            "Epoch 43/100\n",
            "375/375 [==============================] - 4s 11ms/step - loss: 1.1855 - accuracy: 0.5992 - val_loss: 3.8073 - val_accuracy: 0.0958\n",
            "Epoch 44/100\n",
            "375/375 [==============================] - 4s 11ms/step - loss: 1.1675 - accuracy: 0.6061 - val_loss: 3.8776 - val_accuracy: 0.0924\n",
            "Epoch 45/100\n",
            "375/375 [==============================] - 4s 11ms/step - loss: 1.1473 - accuracy: 0.6134 - val_loss: 3.9047 - val_accuracy: 0.0982\n",
            "Epoch 46/100\n",
            "375/375 [==============================] - 4s 11ms/step - loss: 1.1287 - accuracy: 0.6185 - val_loss: 3.9604 - val_accuracy: 0.0963\n",
            "Epoch 47/100\n",
            "375/375 [==============================] - 4s 11ms/step - loss: 1.1102 - accuracy: 0.6265 - val_loss: 4.0330 - val_accuracy: 0.0976\n",
            "Epoch 48/100\n",
            "375/375 [==============================] - 4s 11ms/step - loss: 1.0918 - accuracy: 0.6334 - val_loss: 4.0440 - val_accuracy: 0.0954\n",
            "Epoch 49/100\n",
            "375/375 [==============================] - 4s 11ms/step - loss: 1.0750 - accuracy: 0.6404 - val_loss: 4.1260 - val_accuracy: 0.0982\n",
            "Epoch 50/100\n",
            "375/375 [==============================] - 4s 11ms/step - loss: 1.0578 - accuracy: 0.6455 - val_loss: 4.2042 - val_accuracy: 0.0983\n",
            "Epoch 51/100\n",
            "375/375 [==============================] - 4s 11ms/step - loss: 1.0393 - accuracy: 0.6522 - val_loss: 4.2600 - val_accuracy: 0.0948\n",
            "Epoch 52/100\n",
            "375/375 [==============================] - 4s 11ms/step - loss: 1.0208 - accuracy: 0.6582 - val_loss: 4.3232 - val_accuracy: 0.0972\n",
            "Epoch 53/100\n",
            "375/375 [==============================] - 4s 11ms/step - loss: 1.0053 - accuracy: 0.6660 - val_loss: 4.3660 - val_accuracy: 0.0943\n",
            "Epoch 54/100\n",
            "375/375 [==============================] - 4s 11ms/step - loss: 0.9897 - accuracy: 0.6709 - val_loss: 4.4132 - val_accuracy: 0.1002\n",
            "Epoch 55/100\n",
            "375/375 [==============================] - 4s 11ms/step - loss: 0.9708 - accuracy: 0.6751 - val_loss: 4.4761 - val_accuracy: 0.0974\n",
            "Epoch 56/100\n",
            "375/375 [==============================] - 4s 11ms/step - loss: 0.9575 - accuracy: 0.6810 - val_loss: 4.5559 - val_accuracy: 0.0956\n",
            "Epoch 57/100\n",
            "375/375 [==============================] - 4s 11ms/step - loss: 0.9430 - accuracy: 0.6869 - val_loss: 4.6126 - val_accuracy: 0.0982\n",
            "Epoch 58/100\n",
            "375/375 [==============================] - 4s 11ms/step - loss: 0.9286 - accuracy: 0.6915 - val_loss: 4.6604 - val_accuracy: 0.0936\n",
            "Epoch 59/100\n",
            "375/375 [==============================] - 4s 11ms/step - loss: 0.9107 - accuracy: 0.6972 - val_loss: 4.7359 - val_accuracy: 0.0948\n",
            "Epoch 60/100\n",
            "375/375 [==============================] - 4s 11ms/step - loss: 0.8989 - accuracy: 0.7021 - val_loss: 4.7744 - val_accuracy: 0.0973\n",
            "Epoch 61/100\n",
            "375/375 [==============================] - 4s 11ms/step - loss: 0.8830 - accuracy: 0.7059 - val_loss: 4.8248 - val_accuracy: 0.0970\n",
            "Epoch 62/100\n",
            "375/375 [==============================] - 4s 11ms/step - loss: 0.8678 - accuracy: 0.7115 - val_loss: 4.9206 - val_accuracy: 0.0982\n",
            "Epoch 63/100\n",
            "375/375 [==============================] - 4s 11ms/step - loss: 0.8573 - accuracy: 0.7185 - val_loss: 4.9481 - val_accuracy: 0.0974\n",
            "Epoch 64/100\n",
            "375/375 [==============================] - 4s 11ms/step - loss: 0.8429 - accuracy: 0.7200 - val_loss: 5.0251 - val_accuracy: 0.0957\n",
            "Epoch 65/100\n",
            "375/375 [==============================] - 4s 11ms/step - loss: 0.8275 - accuracy: 0.7267 - val_loss: 5.0772 - val_accuracy: 0.0967\n",
            "Epoch 66/100\n",
            "375/375 [==============================] - 4s 12ms/step - loss: 0.8169 - accuracy: 0.7303 - val_loss: 5.1182 - val_accuracy: 0.0938\n",
            "Epoch 67/100\n",
            "375/375 [==============================] - 4s 12ms/step - loss: 0.8005 - accuracy: 0.7361 - val_loss: 5.1832 - val_accuracy: 0.0972\n",
            "Epoch 68/100\n",
            "375/375 [==============================] - 4s 12ms/step - loss: 0.7901 - accuracy: 0.7402 - val_loss: 5.2994 - val_accuracy: 0.0967\n",
            "Epoch 69/100\n",
            "375/375 [==============================] - 4s 12ms/step - loss: 0.7775 - accuracy: 0.7442 - val_loss: 5.3164 - val_accuracy: 0.0945\n",
            "Epoch 70/100\n",
            "375/375 [==============================] - 4s 12ms/step - loss: 0.7653 - accuracy: 0.7490 - val_loss: 5.3874 - val_accuracy: 0.0988\n",
            "Epoch 71/100\n",
            "375/375 [==============================] - 4s 11ms/step - loss: 0.7545 - accuracy: 0.7533 - val_loss: 5.4929 - val_accuracy: 0.0948\n",
            "Epoch 72/100\n",
            "375/375 [==============================] - 4s 12ms/step - loss: 0.7417 - accuracy: 0.7567 - val_loss: 5.5621 - val_accuracy: 0.0962\n",
            "Epoch 73/100\n",
            "375/375 [==============================] - 4s 12ms/step - loss: 0.7316 - accuracy: 0.7611 - val_loss: 5.5788 - val_accuracy: 0.0934\n",
            "Epoch 74/100\n",
            "375/375 [==============================] - 4s 12ms/step - loss: 0.7196 - accuracy: 0.7661 - val_loss: 5.6721 - val_accuracy: 0.0964\n",
            "Epoch 75/100\n",
            "375/375 [==============================] - 4s 12ms/step - loss: 0.7073 - accuracy: 0.7685 - val_loss: 5.6867 - val_accuracy: 0.0940\n",
            "Epoch 76/100\n",
            "375/375 [==============================] - 4s 12ms/step - loss: 0.6982 - accuracy: 0.7716 - val_loss: 5.8270 - val_accuracy: 0.0956\n",
            "Epoch 77/100\n",
            "375/375 [==============================] - 4s 11ms/step - loss: 0.6869 - accuracy: 0.7770 - val_loss: 5.9075 - val_accuracy: 0.0956\n",
            "Epoch 78/100\n",
            "375/375 [==============================] - 4s 12ms/step - loss: 0.6763 - accuracy: 0.7798 - val_loss: 5.9180 - val_accuracy: 0.0971\n",
            "Epoch 79/100\n",
            "375/375 [==============================] - 4s 12ms/step - loss: 0.6658 - accuracy: 0.7841 - val_loss: 5.9876 - val_accuracy: 0.0988\n",
            "Epoch 80/100\n",
            "375/375 [==============================] - 4s 12ms/step - loss: 0.6562 - accuracy: 0.7878 - val_loss: 6.0513 - val_accuracy: 0.0927\n",
            "Epoch 81/100\n",
            "375/375 [==============================] - 4s 12ms/step - loss: 0.6480 - accuracy: 0.7887 - val_loss: 6.1255 - val_accuracy: 0.0987\n",
            "Epoch 82/100\n",
            "375/375 [==============================] - 4s 12ms/step - loss: 0.6364 - accuracy: 0.7926 - val_loss: 6.2203 - val_accuracy: 0.0981\n",
            "Epoch 83/100\n",
            "375/375 [==============================] - 4s 12ms/step - loss: 0.6265 - accuracy: 0.7963 - val_loss: 6.2919 - val_accuracy: 0.0955\n",
            "Epoch 84/100\n",
            "375/375 [==============================] - 4s 11ms/step - loss: 0.6188 - accuracy: 0.8003 - val_loss: 6.3046 - val_accuracy: 0.0966\n",
            "Epoch 85/100\n",
            "375/375 [==============================] - 4s 12ms/step - loss: 0.6074 - accuracy: 0.8039 - val_loss: 6.3551 - val_accuracy: 0.0968\n",
            "Epoch 86/100\n",
            "375/375 [==============================] - 4s 12ms/step - loss: 0.5989 - accuracy: 0.8071 - val_loss: 6.4650 - val_accuracy: 0.0956\n",
            "Epoch 87/100\n",
            "375/375 [==============================] - 4s 12ms/step - loss: 0.5892 - accuracy: 0.8099 - val_loss: 6.5438 - val_accuracy: 0.0974\n",
            "Epoch 88/100\n",
            "375/375 [==============================] - 4s 12ms/step - loss: 0.5778 - accuracy: 0.8153 - val_loss: 6.6103 - val_accuracy: 0.0957\n",
            "Epoch 89/100\n",
            "375/375 [==============================] - 4s 12ms/step - loss: 0.5735 - accuracy: 0.8146 - val_loss: 6.6521 - val_accuracy: 0.0948\n",
            "Epoch 90/100\n",
            "375/375 [==============================] - 4s 12ms/step - loss: 0.5625 - accuracy: 0.8183 - val_loss: 6.7509 - val_accuracy: 0.0960\n",
            "Epoch 91/100\n",
            "375/375 [==============================] - 4s 12ms/step - loss: 0.5562 - accuracy: 0.8205 - val_loss: 6.7788 - val_accuracy: 0.0970\n",
            "Epoch 92/100\n",
            "375/375 [==============================] - 5s 12ms/step - loss: 0.5475 - accuracy: 0.8230 - val_loss: 6.8883 - val_accuracy: 0.0967\n",
            "Epoch 93/100\n",
            "375/375 [==============================] - 5s 12ms/step - loss: 0.5390 - accuracy: 0.8257 - val_loss: 6.9291 - val_accuracy: 0.0934\n",
            "Epoch 94/100\n",
            "375/375 [==============================] - 5s 12ms/step - loss: 0.5333 - accuracy: 0.8279 - val_loss: 7.0204 - val_accuracy: 0.0962\n",
            "Epoch 95/100\n",
            "375/375 [==============================] - 5s 12ms/step - loss: 0.5223 - accuracy: 0.8325 - val_loss: 7.0692 - val_accuracy: 0.0971\n",
            "Epoch 96/100\n",
            "375/375 [==============================] - 5s 12ms/step - loss: 0.5157 - accuracy: 0.8353 - val_loss: 7.2105 - val_accuracy: 0.0953\n",
            "Epoch 97/100\n",
            "375/375 [==============================] - 5s 12ms/step - loss: 0.5082 - accuracy: 0.8374 - val_loss: 7.2436 - val_accuracy: 0.0966\n",
            "Epoch 98/100\n",
            "375/375 [==============================] - 5s 12ms/step - loss: 0.5014 - accuracy: 0.8376 - val_loss: 7.3011 - val_accuracy: 0.0972\n",
            "Epoch 99/100\n",
            "375/375 [==============================] - 4s 12ms/step - loss: 0.4944 - accuracy: 0.8413 - val_loss: 7.3739 - val_accuracy: 0.1001\n",
            "Epoch 100/100\n",
            "375/375 [==============================] - 4s 12ms/step - loss: 0.4864 - accuracy: 0.8445 - val_loss: 7.4382 - val_accuracy: 0.0944\n"
          ]
        },
        {
          "output_type": "execute_result",
          "data": {
            "text/plain": [
              "<keras.callbacks.History at 0x7fc1f02eaf10>"
            ]
          },
          "metadata": {},
          "execution_count": 12
        }
      ],
      "source": [
        "(train_images, train_labels), _ = mnist.load_data()\n",
        "train_images = train_images.reshape((60000, 28 * 28))\n",
        "train_images = train_images.astype(\"float32\") / 255\n",
        "\n",
        "random_train_labels = train_labels[:]\n",
        "np.random.shuffle(random_train_labels)\n",
        "\n",
        "model = keras.Sequential([\n",
        "    layers.Dense(512, activation=\"relu\"),\n",
        "    layers.Dense(10, activation=\"softmax\")\n",
        "])\n",
        "model.compile(optimizer=\"rmsprop\",\n",
        "              loss=\"sparse_categorical_crossentropy\",\n",
        "              metrics=[\"accuracy\"])\n",
        "model.fit(train_images, random_train_labels,\n",
        "          epochs=100,\n",
        "          batch_size=128,\n",
        "          validation_split=0.2)"
      ]
    },
    {
      "cell_type": "markdown",
      "metadata": {
        "id": "paFNsVzy9gmZ"
      },
      "source": [
        "#### The manifold hypothesis"
      ]
    },
    {
      "cell_type": "markdown",
      "metadata": {
        "id": "ZjF5VmmS9gmZ"
      },
      "source": [
        "#### Interpolation as a source of generalization"
      ]
    },
    {
      "cell_type": "markdown",
      "metadata": {
        "id": "BtQdXR0H9gmZ"
      },
      "source": [
        "#### Why deep learning works"
      ]
    },
    {
      "cell_type": "markdown",
      "metadata": {
        "id": "ntEbsUcf9gmZ"
      },
      "source": [
        "#### Training data is paramount"
      ]
    },
    {
      "cell_type": "markdown",
      "metadata": {
        "id": "JhOxzyAk9gma"
      },
      "source": [
        "## Evaluating machine-learning models"
      ]
    },
    {
      "cell_type": "markdown",
      "metadata": {
        "id": "je1rncbQ9gma"
      },
      "source": [
        "### Training, validation, and test sets"
      ]
    },
    {
      "cell_type": "markdown",
      "metadata": {
        "id": "PyKG2cOF9gma"
      },
      "source": [
        "#### Simple hold-out validation"
      ]
    },
    {
      "cell_type": "markdown",
      "metadata": {
        "id": "2iCna9XJ9gma"
      },
      "source": [
        "#### K-fold validation"
      ]
    },
    {
      "cell_type": "markdown",
      "metadata": {
        "id": "P_jsiSoP9gma"
      },
      "source": [
        "#### Iterated K-fold validation with shuffling"
      ]
    },
    {
      "cell_type": "markdown",
      "metadata": {
        "id": "u3-wld_b9gma"
      },
      "source": [
        "### Beating a common-sense baseline"
      ]
    },
    {
      "cell_type": "markdown",
      "metadata": {
        "id": "SNT-Apwp9gmb"
      },
      "source": [
        "### Things to keep in mind about model evaluation"
      ]
    },
    {
      "cell_type": "markdown",
      "metadata": {
        "id": "8eXyOuVP9gmb"
      },
      "source": [
        "## Improving model fit"
      ]
    },
    {
      "cell_type": "markdown",
      "metadata": {
        "id": "dVKonJqq9gmb"
      },
      "source": [
        "### Tuning key gradient descent parameters"
      ]
    },
    {
      "cell_type": "markdown",
      "metadata": {
        "id": "5NZcWPww9gmb"
      },
      "source": [
        "**Training a MNIST model with an incorrectly high learning rate**"
      ]
    },
    {
      "cell_type": "code",
      "execution_count": 13,
      "metadata": {
        "id": "coQONNlY9gmb",
        "outputId": "7263428f-f946-4a26-d49e-001784d0429c",
        "colab": {
          "base_uri": "https://localhost:8080/"
        }
      },
      "outputs": [
        {
          "output_type": "stream",
          "name": "stdout",
          "text": [
            "Epoch 1/10\n",
            "375/375 [==============================] - 5s 12ms/step - loss: 1125.5430 - accuracy: 0.3967 - val_loss: 2.3097 - val_accuracy: 0.3309\n",
            "Epoch 2/10\n",
            "375/375 [==============================] - 5s 13ms/step - loss: 5.5861 - accuracy: 0.2471 - val_loss: 2.9681 - val_accuracy: 0.3332\n",
            "Epoch 3/10\n",
            "375/375 [==============================] - 8s 22ms/step - loss: 2.9992 - accuracy: 0.2687 - val_loss: 2.2830 - val_accuracy: 0.1970\n",
            "Epoch 4/10\n",
            "375/375 [==============================] - 8s 21ms/step - loss: 2.7160 - accuracy: 0.2473 - val_loss: 2.5587 - val_accuracy: 0.2797\n",
            "Epoch 5/10\n",
            "375/375 [==============================] - 7s 18ms/step - loss: 2.5373 - accuracy: 0.2853 - val_loss: 2.1055 - val_accuracy: 0.2854\n",
            "Epoch 6/10\n",
            "375/375 [==============================] - 7s 19ms/step - loss: 2.7638 - accuracy: 0.2683 - val_loss: 2.5407 - val_accuracy: 0.2779\n",
            "Epoch 7/10\n",
            "375/375 [==============================] - 7s 17ms/step - loss: 2.6024 - accuracy: 0.2661 - val_loss: 3.2950 - val_accuracy: 0.2830\n",
            "Epoch 8/10\n",
            "375/375 [==============================] - 6s 16ms/step - loss: 2.7125 - accuracy: 0.2749 - val_loss: 3.4866 - val_accuracy: 0.3253\n",
            "Epoch 9/10\n",
            "375/375 [==============================] - 4s 12ms/step - loss: 2.4434 - accuracy: 0.2568 - val_loss: 2.2140 - val_accuracy: 0.2653\n",
            "Epoch 10/10\n",
            "375/375 [==============================] - 4s 11ms/step - loss: 2.5754 - accuracy: 0.2564 - val_loss: 2.7809 - val_accuracy: 0.2676\n"
          ]
        },
        {
          "output_type": "execute_result",
          "data": {
            "text/plain": [
              "<keras.callbacks.History at 0x7fc1f018be50>"
            ]
          },
          "metadata": {},
          "execution_count": 13
        }
      ],
      "source": [
        "(train_images, train_labels), _ = mnist.load_data()\n",
        "train_images = train_images.reshape((60000, 28 * 28))\n",
        "train_images = train_images.astype(\"float32\") / 255\n",
        "\n",
        "model = keras.Sequential([\n",
        "    layers.Dense(512, activation=\"relu\"),\n",
        "    layers.Dense(10, activation=\"softmax\")\n",
        "])\n",
        "model.compile(optimizer=keras.optimizers.RMSprop(1.), ## learning rate(학습률)이 엄청 높기에 정확도가 늘지 않는다.\n",
        "              loss=\"sparse_categorical_crossentropy\",\n",
        "              metrics=[\"accuracy\"])\n",
        "model.fit(train_images, train_labels,\n",
        "          epochs=10,\n",
        "          batch_size=128,\n",
        "          validation_split=0.2)"
      ]
    },
    {
      "cell_type": "markdown",
      "metadata": {
        "id": "x-O273-H9gmb"
      },
      "source": [
        "**The same model with a more appropriate learning rate**"
      ]
    },
    {
      "cell_type": "code",
      "execution_count": null,
      "metadata": {
        "id": "ce9mXe6p9gmb"
      },
      "outputs": [],
      "source": [
        "model = keras.Sequential([\n",
        "    layers.Dense(512, activation=\"relu\"),\n",
        "    layers.Dense(10, activation=\"softmax\")\n",
        "])\n",
        "model.compile(optimizer=keras.optimizers.RMSprop(1e-2),\n",
        "              loss=\"sparse_categorical_crossentropy\",\n",
        "              metrics=[\"accuracy\"])\n",
        "model.fit(train_images, train_labels,\n",
        "          epochs=10,\n",
        "          batch_size=128,\n",
        "          validation_split=0.2)"
      ]
    },
    {
      "cell_type": "markdown",
      "metadata": {
        "id": "-pJcOB6x9gmc"
      },
      "source": [
        "### Leveraging better architecture priors"
      ]
    },
    {
      "cell_type": "markdown",
      "metadata": {
        "id": "WLjcbEdv9gmc"
      },
      "source": [
        "### Increasing model capacity"
      ]
    },
    {
      "cell_type": "markdown",
      "metadata": {
        "id": "01G1cB4U9gmc"
      },
      "source": [
        "**A simple logistic regression on MNIST**"
      ]
    },
    {
      "cell_type": "code",
      "execution_count": 14,
      "metadata": {
        "id": "lva9anPv9gmc",
        "outputId": "76fbb67b-d223-4b2f-94f8-326ddd401913",
        "colab": {
          "base_uri": "https://localhost:8080/"
        }
      },
      "outputs": [
        {
          "output_type": "stream",
          "name": "stdout",
          "text": [
            "Epoch 1/20\n",
            "375/375 [==============================] - 2s 3ms/step - loss: 0.6686 - accuracy: 0.8336 - val_loss: 0.3588 - val_accuracy: 0.9039\n",
            "Epoch 2/20\n",
            "375/375 [==============================] - 1s 3ms/step - loss: 0.3509 - accuracy: 0.9038 - val_loss: 0.3079 - val_accuracy: 0.9141\n",
            "Epoch 3/20\n",
            "375/375 [==============================] - 1s 3ms/step - loss: 0.3150 - accuracy: 0.9125 - val_loss: 0.2914 - val_accuracy: 0.9188\n",
            "Epoch 4/20\n",
            "375/375 [==============================] - 1s 3ms/step - loss: 0.2991 - accuracy: 0.9164 - val_loss: 0.2812 - val_accuracy: 0.9218\n",
            "Epoch 5/20\n",
            "375/375 [==============================] - 1s 3ms/step - loss: 0.2893 - accuracy: 0.9195 - val_loss: 0.2764 - val_accuracy: 0.9247\n",
            "Epoch 6/20\n",
            "375/375 [==============================] - 1s 3ms/step - loss: 0.2827 - accuracy: 0.9216 - val_loss: 0.2720 - val_accuracy: 0.9237\n",
            "Epoch 7/20\n",
            "375/375 [==============================] - 1s 3ms/step - loss: 0.2782 - accuracy: 0.9224 - val_loss: 0.2695 - val_accuracy: 0.9252\n",
            "Epoch 8/20\n",
            "375/375 [==============================] - 1s 3ms/step - loss: 0.2742 - accuracy: 0.9233 - val_loss: 0.2663 - val_accuracy: 0.9276\n",
            "Epoch 9/20\n",
            "375/375 [==============================] - 1s 3ms/step - loss: 0.2709 - accuracy: 0.9250 - val_loss: 0.2670 - val_accuracy: 0.9277\n",
            "Epoch 10/20\n",
            "375/375 [==============================] - 1s 3ms/step - loss: 0.2685 - accuracy: 0.9255 - val_loss: 0.2647 - val_accuracy: 0.9284\n",
            "Epoch 11/20\n",
            "375/375 [==============================] - 1s 3ms/step - loss: 0.2666 - accuracy: 0.9256 - val_loss: 0.2640 - val_accuracy: 0.9285\n",
            "Epoch 12/20\n",
            "375/375 [==============================] - 1s 3ms/step - loss: 0.2645 - accuracy: 0.9271 - val_loss: 0.2642 - val_accuracy: 0.9277\n",
            "Epoch 13/20\n",
            "375/375 [==============================] - 1s 3ms/step - loss: 0.2628 - accuracy: 0.9269 - val_loss: 0.2625 - val_accuracy: 0.9287\n",
            "Epoch 14/20\n",
            "375/375 [==============================] - 1s 3ms/step - loss: 0.2617 - accuracy: 0.9283 - val_loss: 0.2615 - val_accuracy: 0.9297\n",
            "Epoch 15/20\n",
            "375/375 [==============================] - 1s 3ms/step - loss: 0.2604 - accuracy: 0.9275 - val_loss: 0.2621 - val_accuracy: 0.9300\n",
            "Epoch 16/20\n",
            "375/375 [==============================] - 1s 3ms/step - loss: 0.2593 - accuracy: 0.9292 - val_loss: 0.2605 - val_accuracy: 0.9294\n",
            "Epoch 17/20\n",
            "375/375 [==============================] - 1s 3ms/step - loss: 0.2581 - accuracy: 0.9293 - val_loss: 0.2620 - val_accuracy: 0.9304\n",
            "Epoch 18/20\n",
            "375/375 [==============================] - 1s 3ms/step - loss: 0.2571 - accuracy: 0.9300 - val_loss: 0.2605 - val_accuracy: 0.9302\n",
            "Epoch 19/20\n",
            "375/375 [==============================] - 1s 3ms/step - loss: 0.2561 - accuracy: 0.9298 - val_loss: 0.2613 - val_accuracy: 0.9302\n",
            "Epoch 20/20\n",
            "375/375 [==============================] - 1s 3ms/step - loss: 0.2557 - accuracy: 0.9304 - val_loss: 0.2615 - val_accuracy: 0.9308\n"
          ]
        }
      ],
      "source": [
        "model = keras.Sequential([layers.Dense(10, activation=\"softmax\")])\n",
        "model.compile(optimizer=\"rmsprop\",\n",
        "              loss=\"sparse_categorical_crossentropy\",\n",
        "              metrics=[\"accuracy\"])\n",
        "history_small_model = model.fit(\n",
        "    train_images, train_labels,\n",
        "    epochs=20,\n",
        "    batch_size=128,\n",
        "    validation_split=0.2)"
      ]
    },
    {
      "cell_type": "code",
      "execution_count": 15,
      "metadata": {
        "id": "037qOsTR9gmc",
        "outputId": "fe419a2b-74f6-4b29-cd3b-8670c5e4fa9c",
        "colab": {
          "base_uri": "https://localhost:8080/",
          "height": 313
        }
      },
      "outputs": [
        {
          "output_type": "execute_result",
          "data": {
            "text/plain": [
              "<matplotlib.legend.Legend at 0x7fc1efebff10>"
            ]
          },
          "metadata": {},
          "execution_count": 15
        },
        {
          "output_type": "display_data",
          "data": {
            "text/plain": [
              "<Figure size 432x288 with 1 Axes>"
            ],
            "image/png": "[encoded data removed]"
          },
          "metadata": {
            "needs_background": "light"
          }
        }
      ],
      "source": [
        "import matplotlib.pyplot as plt\n",
        "val_loss = history_small_model.history[\"val_loss\"]\n",
        "epochs = range(1, 21)\n",
        "plt.plot(epochs, val_loss, \"b--\",\n",
        "         label=\"Validation loss\")\n",
        "plt.title(\"Effect of insufficient model capacity on validation loss\")\n",
        "plt.xlabel(\"Epochs\")\n",
        "plt.ylabel(\"Loss\")\n",
        "plt.legend()"
      ]
    },
    {
      "cell_type": "code",
      "execution_count": 16,
      "metadata": {
        "id": "Is0bNRua9gmc",
        "outputId": "8d87b151-280a-4241-af16-ef3221c22aa7",
        "colab": {
          "base_uri": "https://localhost:8080/"
        }
      },
      "outputs": [
        {
          "output_type": "stream",
          "name": "stdout",
          "text": [
            "Epoch 1/20\n",
            "375/375 [==============================] - 3s 6ms/step - loss: 0.3654 - accuracy: 0.8964 - val_loss: 0.1963 - val_accuracy: 0.9435\n",
            "Epoch 2/20\n",
            "375/375 [==============================] - 2s 5ms/step - loss: 0.1671 - accuracy: 0.9504 - val_loss: 0.1392 - val_accuracy: 0.9577\n",
            "Epoch 3/20\n",
            "375/375 [==============================] - 2s 5ms/step - loss: 0.1191 - accuracy: 0.9648 - val_loss: 0.1292 - val_accuracy: 0.9613\n",
            "Epoch 4/20\n",
            "375/375 [==============================] - 2s 5ms/step - loss: 0.0898 - accuracy: 0.9729 - val_loss: 0.1029 - val_accuracy: 0.9683\n",
            "Epoch 5/20\n",
            "375/375 [==============================] - 2s 5ms/step - loss: 0.0722 - accuracy: 0.9778 - val_loss: 0.1029 - val_accuracy: 0.9705\n",
            "Epoch 6/20\n",
            "375/375 [==============================] - 2s 5ms/step - loss: 0.0591 - accuracy: 0.9820 - val_loss: 0.0990 - val_accuracy: 0.9722\n",
            "Epoch 7/20\n",
            "375/375 [==============================] - 2s 5ms/step - loss: 0.0495 - accuracy: 0.9845 - val_loss: 0.1015 - val_accuracy: 0.9717\n",
            "Epoch 8/20\n",
            "375/375 [==============================] - 2s 5ms/step - loss: 0.0411 - accuracy: 0.9873 - val_loss: 0.1084 - val_accuracy: 0.9710\n",
            "Epoch 9/20\n",
            "375/375 [==============================] - 2s 6ms/step - loss: 0.0344 - accuracy: 0.9896 - val_loss: 0.1064 - val_accuracy: 0.9715\n",
            "Epoch 10/20\n",
            "375/375 [==============================] - 2s 5ms/step - loss: 0.0287 - accuracy: 0.9911 - val_loss: 0.0988 - val_accuracy: 0.9737\n",
            "Epoch 11/20\n",
            "375/375 [==============================] - 2s 5ms/step - loss: 0.0250 - accuracy: 0.9924 - val_loss: 0.1009 - val_accuracy: 0.9740\n",
            "Epoch 12/20\n",
            "375/375 [==============================] - 2s 5ms/step - loss: 0.0207 - accuracy: 0.9936 - val_loss: 0.1112 - val_accuracy: 0.9732\n",
            "Epoch 13/20\n",
            "375/375 [==============================] - 2s 5ms/step - loss: 0.0180 - accuracy: 0.9942 - val_loss: 0.1039 - val_accuracy: 0.9751\n",
            "Epoch 14/20\n",
            "375/375 [==============================] - 3s 7ms/step - loss: 0.0142 - accuracy: 0.9955 - val_loss: 0.1130 - val_accuracy: 0.9757\n",
            "Epoch 15/20\n",
            "375/375 [==============================] - 2s 6ms/step - loss: 0.0128 - accuracy: 0.9959 - val_loss: 0.1278 - val_accuracy: 0.9737\n",
            "Epoch 16/20\n",
            "375/375 [==============================] - 2s 6ms/step - loss: 0.0105 - accuracy: 0.9967 - val_loss: 0.1255 - val_accuracy: 0.9747\n",
            "Epoch 17/20\n",
            "375/375 [==============================] - 2s 6ms/step - loss: 0.0092 - accuracy: 0.9970 - val_loss: 0.1279 - val_accuracy: 0.9759\n",
            "Epoch 18/20\n",
            "375/375 [==============================] - 2s 5ms/step - loss: 0.0079 - accuracy: 0.9976 - val_loss: 0.1225 - val_accuracy: 0.9753\n",
            "Epoch 19/20\n",
            "375/375 [==============================] - 2s 5ms/step - loss: 0.0069 - accuracy: 0.9977 - val_loss: 0.1342 - val_accuracy: 0.9758\n",
            "Epoch 20/20\n",
            "375/375 [==============================] - 2s 5ms/step - loss: 0.0057 - accuracy: 0.9981 - val_loss: 0.1387 - val_accuracy: 0.9765\n"
          ]
        }
      ],
      "source": [
        "model = keras.Sequential([\n",
        "    layers.Dense(96, activation=\"relu\"),\n",
        "    layers.Dense(96, activation=\"relu\"),\n",
        "    layers.Dense(10, activation=\"softmax\"),\n",
        "])\n",
        "model.compile(optimizer=\"rmsprop\",\n",
        "              loss=\"sparse_categorical_crossentropy\",\n",
        "              metrics=[\"accuracy\"])\n",
        "history_large_model = model.fit(\n",
        "    train_images, train_labels,\n",
        "    epochs=20,\n",
        "    batch_size=128,\n",
        "    validation_split=0.2)"
      ]
    },
    {
      "cell_type": "code",
      "source": [
        "import matplotlib.pyplot as plt\n",
        "val_loss = history_large_model.history[\"val_loss\"]\n",
        "epochs = range(1, 21)\n",
        "plt.plot(epochs, val_loss, \"b--\",\n",
        "         label=\"Validation loss\")\n",
        "plt.title(\"Effect of large model capacity on validation loss\")\n",
        "plt.xlabel(\"Epochs\")\n",
        "plt.ylabel(\"Loss\")\n",
        "plt.legend()"
      ],
      "metadata": {
        "id": "Ml06cwU3Txfg",
        "outputId": "12db17a5-60e3-4561-ca56-606d5825d8ac",
        "colab": {
          "base_uri": "https://localhost:8080/",
          "height": 313
        }
      },
      "execution_count": 18,
      "outputs": [
        {
          "output_type": "execute_result",
          "data": {
            "text/plain": [
              "<matplotlib.legend.Legend at 0x7fc1efde9550>"
            ]
          },
          "metadata": {},
          "execution_count": 18
        },
        {
          "output_type": "display_data",
          "data": {
            "text/plain": [
              "<Figure size 432x288 with 1 Axes>"
            ],
            "image/png": "[encoded data removed]"
          },
          "metadata": {
            "needs_background": "light"
          }
        }
      ]
    },
    {
      "cell_type": "markdown",
      "metadata": {
        "id": "pBI6vVOJ9gmd"
      },
      "source": [
        "## Improving generalization"
      ]
    },
    {
      "cell_type": "markdown",
      "metadata": {
        "id": "a2_-OoKm9gmd"
      },
      "source": [
        "### Dataset curation"
      ]
    },
    {
      "cell_type": "markdown",
      "metadata": {
        "id": "STnfbc3x9gmd"
      },
      "source": [
        "### Feature engineering"
      ]
    },
    {
      "cell_type": "markdown",
      "metadata": {
        "id": "c3boCisM9gmd"
      },
      "source": [
        "### Using early stopping"
      ]
    },
    {
      "cell_type": "markdown",
      "metadata": {
        "id": "63MEj8X79gmd"
      },
      "source": [
        "### Regularizing your model"
      ]
    },
    {
      "cell_type": "markdown",
      "metadata": {
        "id": "D5DDYXjt9gmd"
      },
      "source": [
        "#### Reducing the network's size"
      ]
    },
    {
      "cell_type": "markdown",
      "metadata": {
        "id": "0Xw03yAI9gmd"
      },
      "source": [
        "**Original model**"
      ]
    },
    {
      "cell_type": "code",
      "execution_count": 19,
      "metadata": {
        "id": "OUXIatXx9gmd",
        "outputId": "a80cf214-fad0-46d6-8343-86814480830d",
        "colab": {
          "base_uri": "https://localhost:8080/"
        }
      },
      "outputs": [
        {
          "output_type": "stream",
          "name": "stdout",
          "text": [
            "Downloading data from https://storage.googleapis.com/tensorflow/tf-keras-datasets/imdb.npz\n",
            "17465344/17464789 [==============================] - 0s 0us/step\n",
            "17473536/17464789 [==============================] - 0s 0us/step\n",
            "Epoch 1/20\n",
            "30/30 [==============================] - 4s 87ms/step - loss: 0.5114 - accuracy: 0.7809 - val_loss: 0.3740 - val_accuracy: 0.8760\n",
            "Epoch 2/20\n",
            "30/30 [==============================] - 2s 71ms/step - loss: 0.3014 - accuracy: 0.9043 - val_loss: 0.3167 - val_accuracy: 0.8747\n",
            "Epoch 3/20\n",
            "30/30 [==============================] - 2s 56ms/step - loss: 0.2258 - accuracy: 0.9258 - val_loss: 0.2822 - val_accuracy: 0.8896\n",
            "Epoch 4/20\n",
            "30/30 [==============================] - 1s 43ms/step - loss: 0.1744 - accuracy: 0.9441 - val_loss: 0.2802 - val_accuracy: 0.8890\n",
            "Epoch 5/20\n",
            "30/30 [==============================] - 1s 41ms/step - loss: 0.1407 - accuracy: 0.9534 - val_loss: 0.2847 - val_accuracy: 0.8878\n",
            "Epoch 6/20\n",
            "30/30 [==============================] - 1s 43ms/step - loss: 0.1151 - accuracy: 0.9639 - val_loss: 0.2952 - val_accuracy: 0.8880\n",
            "Epoch 7/20\n",
            "30/30 [==============================] - 1s 42ms/step - loss: 0.0956 - accuracy: 0.9721 - val_loss: 0.3141 - val_accuracy: 0.8835\n",
            "Epoch 8/20\n",
            "30/30 [==============================] - 1s 39ms/step - loss: 0.0804 - accuracy: 0.9767 - val_loss: 0.3591 - val_accuracy: 0.8770\n",
            "Epoch 9/20\n",
            "30/30 [==============================] - 1s 42ms/step - loss: 0.0661 - accuracy: 0.9815 - val_loss: 0.3599 - val_accuracy: 0.8794\n",
            "Epoch 10/20\n",
            "30/30 [==============================] - 1s 39ms/step - loss: 0.0570 - accuracy: 0.9842 - val_loss: 0.3955 - val_accuracy: 0.8735\n",
            "Epoch 11/20\n",
            "30/30 [==============================] - 1s 40ms/step - loss: 0.0451 - accuracy: 0.9895 - val_loss: 0.4225 - val_accuracy: 0.8733\n",
            "Epoch 12/20\n",
            "30/30 [==============================] - 1s 40ms/step - loss: 0.0379 - accuracy: 0.9910 - val_loss: 0.4414 - val_accuracy: 0.8744\n",
            "Epoch 13/20\n",
            "30/30 [==============================] - 1s 42ms/step - loss: 0.0299 - accuracy: 0.9937 - val_loss: 0.4792 - val_accuracy: 0.8723\n",
            "Epoch 14/20\n",
            "30/30 [==============================] - 1s 41ms/step - loss: 0.0238 - accuracy: 0.9953 - val_loss: 0.5052 - val_accuracy: 0.8693\n",
            "Epoch 15/20\n",
            "30/30 [==============================] - 1s 41ms/step - loss: 0.0203 - accuracy: 0.9961 - val_loss: 0.5420 - val_accuracy: 0.8682\n",
            "Epoch 16/20\n",
            "30/30 [==============================] - 1s 40ms/step - loss: 0.0150 - accuracy: 0.9976 - val_loss: 0.5767 - val_accuracy: 0.8675\n",
            "Epoch 17/20\n",
            "30/30 [==============================] - 1s 42ms/step - loss: 0.0131 - accuracy: 0.9983 - val_loss: 0.6110 - val_accuracy: 0.8646\n",
            "Epoch 18/20\n",
            "30/30 [==============================] - 1s 42ms/step - loss: 0.0108 - accuracy: 0.9986 - val_loss: 0.6416 - val_accuracy: 0.8640\n",
            "Epoch 19/20\n",
            "30/30 [==============================] - 1s 39ms/step - loss: 0.0076 - accuracy: 0.9994 - val_loss: 0.6809 - val_accuracy: 0.8622\n",
            "Epoch 20/20\n",
            "30/30 [==============================] - 1s 40ms/step - loss: 0.0059 - accuracy: 0.9996 - val_loss: 0.7207 - val_accuracy: 0.8621\n"
          ]
        }
      ],
      "source": [
        "from tensorflow.keras.datasets import imdb\n",
        "(train_data, train_labels), _ = imdb.load_data(num_words=10000)\n",
        "\n",
        "def vectorize_sequences(sequences, dimension=10000):\n",
        "    results = np.zeros((len(sequences), dimension))\n",
        "    for i, sequence in enumerate(sequences):\n",
        "        results[i, sequence] = 1.\n",
        "    return results\n",
        "train_data = vectorize_sequences(train_data)\n",
        "\n",
        "model = keras.Sequential([\n",
        "    layers.Dense(16, activation=\"relu\"),\n",
        "    layers.Dense(16, activation=\"relu\"),\n",
        "    layers.Dense(1, activation=\"sigmoid\")\n",
        "])\n",
        "model.compile(optimizer=\"rmsprop\",\n",
        "              loss=\"binary_crossentropy\",\n",
        "              metrics=[\"accuracy\"])\n",
        "history_original = model.fit(train_data, train_labels,\n",
        "                             epochs=20, batch_size=512, validation_split=0.4)"
      ]
    },
    {
      "cell_type": "markdown",
      "metadata": {
        "id": "fRFiIFdY9gmd"
      },
      "source": [
        "**Version of the model with lower capacity**"
      ]
    },
    {
      "cell_type": "code",
      "execution_count": 20,
      "metadata": {
        "id": "kTEnIe4A9gme",
        "outputId": "e57cbedc-0e08-47c3-c69c-cccd5d79730e",
        "colab": {
          "base_uri": "https://localhost:8080/"
        }
      },
      "outputs": [
        {
          "output_type": "stream",
          "name": "stdout",
          "text": [
            "Epoch 1/20\n",
            "30/30 [==============================] - 3s 84ms/step - loss: 0.6125 - accuracy: 0.6787 - val_loss: 0.5567 - val_accuracy: 0.7259\n",
            "Epoch 2/20\n",
            "30/30 [==============================] - 2s 52ms/step - loss: 0.5122 - accuracy: 0.8143 - val_loss: 0.5119 - val_accuracy: 0.8370\n",
            "Epoch 3/20\n",
            "30/30 [==============================] - 1s 41ms/step - loss: 0.4677 - accuracy: 0.8669 - val_loss: 0.4904 - val_accuracy: 0.8474\n",
            "Epoch 4/20\n",
            "30/30 [==============================] - 1s 37ms/step - loss: 0.4357 - accuracy: 0.8961 - val_loss: 0.4927 - val_accuracy: 0.8235\n",
            "Epoch 5/20\n",
            "30/30 [==============================] - 1s 38ms/step - loss: 0.4105 - accuracy: 0.9139 - val_loss: 0.4690 - val_accuracy: 0.8651\n",
            "Epoch 6/20\n",
            "30/30 [==============================] - 1s 38ms/step - loss: 0.3895 - accuracy: 0.9314 - val_loss: 0.4780 - val_accuracy: 0.8485\n",
            "Epoch 7/20\n",
            "30/30 [==============================] - 1s 38ms/step - loss: 0.3716 - accuracy: 0.9399 - val_loss: 0.4767 - val_accuracy: 0.8533\n",
            "Epoch 8/20\n",
            "30/30 [==============================] - 1s 39ms/step - loss: 0.3549 - accuracy: 0.9517 - val_loss: 0.4537 - val_accuracy: 0.8753\n",
            "Epoch 9/20\n",
            "30/30 [==============================] - 2s 59ms/step - loss: 0.3408 - accuracy: 0.9593 - val_loss: 0.4801 - val_accuracy: 0.8597\n",
            "Epoch 10/20\n",
            "30/30 [==============================] - 2s 64ms/step - loss: 0.3272 - accuracy: 0.9649 - val_loss: 0.4594 - val_accuracy: 0.8730\n",
            "Epoch 11/20\n",
            "30/30 [==============================] - 2s 73ms/step - loss: 0.3157 - accuracy: 0.9703 - val_loss: 0.4705 - val_accuracy: 0.8695\n",
            "Epoch 12/20\n",
            "30/30 [==============================] - 1s 40ms/step - loss: 0.3033 - accuracy: 0.9736 - val_loss: 0.4715 - val_accuracy: 0.8717\n",
            "Epoch 13/20\n",
            "30/30 [==============================] - 1s 39ms/step - loss: 0.2930 - accuracy: 0.9787 - val_loss: 0.4815 - val_accuracy: 0.8706\n",
            "Epoch 14/20\n",
            "30/30 [==============================] - 1s 38ms/step - loss: 0.2836 - accuracy: 0.9799 - val_loss: 0.5125 - val_accuracy: 0.8643\n",
            "Epoch 15/20\n",
            "30/30 [==============================] - 1s 41ms/step - loss: 0.2745 - accuracy: 0.9827 - val_loss: 0.5329 - val_accuracy: 0.8600\n",
            "Epoch 16/20\n",
            "30/30 [==============================] - 1s 38ms/step - loss: 0.2661 - accuracy: 0.9838 - val_loss: 0.5672 - val_accuracy: 0.8560\n",
            "Epoch 17/20\n",
            "30/30 [==============================] - 1s 38ms/step - loss: 0.2575 - accuracy: 0.9864 - val_loss: 0.6109 - val_accuracy: 0.8501\n",
            "Epoch 18/20\n",
            "30/30 [==============================] - 1s 38ms/step - loss: 0.2506 - accuracy: 0.9869 - val_loss: 0.5624 - val_accuracy: 0.8613\n",
            "Epoch 19/20\n",
            "30/30 [==============================] - 1s 39ms/step - loss: 0.2435 - accuracy: 0.9881 - val_loss: 0.5879 - val_accuracy: 0.8595\n",
            "Epoch 20/20\n",
            "30/30 [==============================] - 1s 39ms/step - loss: 0.2374 - accuracy: 0.9883 - val_loss: 0.5876 - val_accuracy: 0.8599\n"
          ]
        }
      ],
      "source": [
        "model = keras.Sequential([\n",
        "    layers.Dense(4, activation=\"relu\"),\n",
        "    layers.Dense(4, activation=\"relu\"),\n",
        "    layers.Dense(1, activation=\"sigmoid\")\n",
        "])\n",
        "model.compile(optimizer=\"rmsprop\",\n",
        "              loss=\"binary_crossentropy\",\n",
        "              metrics=[\"accuracy\"])\n",
        "history_smaller_model = model.fit(\n",
        "    train_data, train_labels,\n",
        "    epochs=20, batch_size=512, validation_split=0.4)"
      ]
    },
    {
      "cell_type": "code",
      "source": [
        "import matplotlib.pyplot as plt\n",
        "val_loss = history_original.history[\"val_loss\"]\n",
        "val_loss2 = history_smaller_model.history[\"val_loss\"]\n",
        "epochs = range(1, 21)\n",
        "plt.plot(epochs, val_loss, \"b--\",\n",
        "         label=\"Validation loss of original model\")\n",
        "plt.plot(epochs, val_loss2, \"b-\",\n",
        "         label=\"Validation loss of smaller model\")\n",
        "plt.title(\"Effect of smaller model capacity on validation loss\")\n",
        "plt.xlabel(\"Epochs\")\n",
        "plt.ylabel(\"Loss\")\n",
        "plt.legend()"
      ],
      "metadata": {
        "id": "AxoECV7uUaQy",
        "outputId": "7719f2b1-bfe1-4596-ccd5-d18da76f2b7d",
        "colab": {
          "base_uri": "https://localhost:8080/",
          "height": 313
        }
      },
      "execution_count": 21,
      "outputs": [
        {
          "output_type": "execute_result",
          "data": {
            "text/plain": [
              "<matplotlib.legend.Legend at 0x7fc1e13c5850>"
            ]
          },
          "metadata": {},
          "execution_count": 21
        },
        {
          "output_type": "display_data",
          "data": {
            "text/plain": [
              "<Figure size 432x288 with 1 Axes>"
            ],
            "image/png": "[encoded data removed]"
          },
          "metadata": {
            "needs_background": "light"
          }
        }
      ]
    },
    {
      "cell_type": "markdown",
      "metadata": {
        "id": "dctFs2yh9gme"
      },
      "source": [
        "**Version of the model with higher capacity**"
      ]
    },
    {
      "cell_type": "code",
      "execution_count": 22,
      "metadata": {
        "id": "49wxRGBO9gme",
        "outputId": "e1b73f38-37e0-45a5-ca4c-43232d2872ec",
        "colab": {
          "base_uri": "https://localhost:8080/"
        }
      },
      "outputs": [
        {
          "output_type": "stream",
          "name": "stdout",
          "text": [
            "Epoch 1/20\n",
            "30/30 [==============================] - 14s 446ms/step - loss: 0.5568 - accuracy: 0.7659 - val_loss: 0.3225 - val_accuracy: 0.8697\n",
            "Epoch 2/20\n",
            "30/30 [==============================] - 11s 359ms/step - loss: 0.2559 - accuracy: 0.8997 - val_loss: 0.2842 - val_accuracy: 0.8833\n",
            "Epoch 3/20\n",
            "30/30 [==============================] - 10s 323ms/step - loss: 0.1502 - accuracy: 0.9483 - val_loss: 0.3305 - val_accuracy: 0.8831\n",
            "Epoch 4/20\n",
            "30/30 [==============================] - 9s 304ms/step - loss: 0.0872 - accuracy: 0.9725 - val_loss: 0.3713 - val_accuracy: 0.8883\n",
            "Epoch 5/20\n",
            "30/30 [==============================] - 9s 302ms/step - loss: 0.1171 - accuracy: 0.9794 - val_loss: 0.3648 - val_accuracy: 0.8916\n",
            "Epoch 6/20\n",
            "30/30 [==============================] - 9s 314ms/step - loss: 0.0041 - accuracy: 0.9995 - val_loss: 0.5089 - val_accuracy: 0.8897\n",
            "Epoch 7/20\n",
            "30/30 [==============================] - 9s 303ms/step - loss: 9.0318e-04 - accuracy: 0.9999 - val_loss: 0.6053 - val_accuracy: 0.8889\n",
            "Epoch 8/20\n",
            "30/30 [==============================] - 9s 304ms/step - loss: 5.0484e-04 - accuracy: 0.9999 - val_loss: 1.4175 - val_accuracy: 0.8250\n",
            "Epoch 9/20\n",
            "30/30 [==============================] - 9s 305ms/step - loss: 0.2986 - accuracy: 0.9793 - val_loss: 0.5772 - val_accuracy: 0.8887\n",
            "Epoch 10/20\n",
            "30/30 [==============================] - 9s 303ms/step - loss: 3.6713e-04 - accuracy: 0.9999 - val_loss: 0.6234 - val_accuracy: 0.8890\n",
            "Epoch 11/20\n",
            "30/30 [==============================] - 9s 305ms/step - loss: 6.4983e-05 - accuracy: 1.0000 - val_loss: 0.7092 - val_accuracy: 0.8885\n",
            "Epoch 12/20\n",
            "30/30 [==============================] - 9s 303ms/step - loss: 2.2722e-05 - accuracy: 1.0000 - val_loss: 0.7957 - val_accuracy: 0.8874\n",
            "Epoch 13/20\n",
            "30/30 [==============================] - 9s 302ms/step - loss: 6.5311e-06 - accuracy: 1.0000 - val_loss: 0.8886 - val_accuracy: 0.8875\n",
            "Epoch 14/20\n",
            "30/30 [==============================] - 9s 303ms/step - loss: 1.9294e-06 - accuracy: 1.0000 - val_loss: 0.9801 - val_accuracy: 0.8873\n",
            "Epoch 15/20\n",
            "30/30 [==============================] - 9s 304ms/step - loss: 6.0912e-07 - accuracy: 1.0000 - val_loss: 1.0567 - val_accuracy: 0.8870\n",
            "Epoch 16/20\n",
            "30/30 [==============================] - 9s 308ms/step - loss: 2.1663e-07 - accuracy: 1.0000 - val_loss: 1.1289 - val_accuracy: 0.8868\n",
            "Epoch 17/20\n",
            "30/30 [==============================] - 9s 306ms/step - loss: 8.8853e-08 - accuracy: 1.0000 - val_loss: 1.1871 - val_accuracy: 0.8870\n",
            "Epoch 18/20\n",
            "30/30 [==============================] - 10s 325ms/step - loss: 4.2404e-08 - accuracy: 1.0000 - val_loss: 1.2308 - val_accuracy: 0.8873\n",
            "Epoch 19/20\n",
            "30/30 [==============================] - 9s 312ms/step - loss: 2.4734e-08 - accuracy: 1.0000 - val_loss: 1.2616 - val_accuracy: 0.8871\n",
            "Epoch 20/20\n",
            "30/30 [==============================] - 9s 307ms/step - loss: 1.7068e-08 - accuracy: 1.0000 - val_loss: 1.2812 - val_accuracy: 0.8868\n"
          ]
        }
      ],
      "source": [
        "model = keras.Sequential([\n",
        "    layers.Dense(512, activation=\"relu\"),\n",
        "    layers.Dense(512, activation=\"relu\"),\n",
        "    layers.Dense(1, activation=\"sigmoid\")\n",
        "])\n",
        "model.compile(optimizer=\"rmsprop\",\n",
        "              loss=\"binary_crossentropy\",\n",
        "              metrics=[\"accuracy\"])\n",
        "history_larger_model = model.fit(\n",
        "    train_data, train_labels,\n",
        "    epochs=20, batch_size=512, validation_split=0.4)"
      ]
    },
    {
      "cell_type": "code",
      "source": [
        "import matplotlib.pyplot as plt\n",
        "val_loss = history_original.history[\"val_loss\"]\n",
        "val_loss2 = history_larger_model.history[\"val_loss\"]\n",
        "epochs = range(1, 21)\n",
        "plt.plot(epochs, val_loss, \"b--\",\n",
        "         label=\"Validation loss of original model\")\n",
        "plt.plot(epochs, val_loss2, \"b-\",\n",
        "         label=\"Validation loss of larger model\")\n",
        "plt.title(\"Effect of larger model capacity on validation loss\")\n",
        "plt.xlabel(\"Epochs\")\n",
        "plt.ylabel(\"Loss\")\n",
        "plt.legend()"
      ],
      "metadata": {
        "id": "m5UD2_A0VAxv",
        "outputId": "6a479326-7705-4071-80c3-a3fab0d314d0",
        "colab": {
          "base_uri": "https://localhost:8080/",
          "height": 245
        }
      },
      "execution_count": 1,
      "outputs": [
        {
          "output_type": "error",
          "ename": "NameError",
          "evalue": "ignored",
          "traceback": [
            "\u001b[0;31m---------------------------------------------------------------------------\u001b[0m",
            "\u001b[0;31mNameError\u001b[0m                                 Traceback (most recent call last)",
            "\u001b[0;32m<ipython-input-1-256cbe0ea43a>\u001b[0m in \u001b[0;36m<module>\u001b[0;34m()\u001b[0m\n\u001b[1;32m      1\u001b[0m \u001b[0;32mimport\u001b[0m \u001b[0mmatplotlib\u001b[0m\u001b[0;34m.\u001b[0m\u001b[0mpyplot\u001b[0m \u001b[0;32mas\u001b[0m \u001b[0mplt\u001b[0m\u001b[0;34m\u001b[0m\u001b[0;34m\u001b[0m\u001b[0m\n\u001b[0;32m----> 2\u001b[0;31m \u001b[0mval_loss\u001b[0m \u001b[0;34m=\u001b[0m \u001b[0mhistory_original\u001b[0m\u001b[0;34m.\u001b[0m\u001b[0mhistory\u001b[0m\u001b[0;34m[\u001b[0m\u001b[0;34m\"val_loss\"\u001b[0m\u001b[0;34m]\u001b[0m\u001b[0;34m\u001b[0m\u001b[0;34m\u001b[0m\u001b[0m\n\u001b[0m\u001b[1;32m      3\u001b[0m \u001b[0mval_loss2\u001b[0m \u001b[0;34m=\u001b[0m \u001b[0mhistory_larger_model\u001b[0m\u001b[0;34m.\u001b[0m\u001b[0mhistory\u001b[0m\u001b[0;34m[\u001b[0m\u001b[0;34m\"val_loss\"\u001b[0m\u001b[0;34m]\u001b[0m\u001b[0;34m\u001b[0m\u001b[0;34m\u001b[0m\u001b[0m\n\u001b[1;32m      4\u001b[0m \u001b[0mepochs\u001b[0m \u001b[0;34m=\u001b[0m \u001b[0mrange\u001b[0m\u001b[0;34m(\u001b[0m\u001b[0;36m1\u001b[0m\u001b[0;34m,\u001b[0m \u001b[0;36m21\u001b[0m\u001b[0;34m)\u001b[0m\u001b[0;34m\u001b[0m\u001b[0;34m\u001b[0m\u001b[0m\n\u001b[1;32m      5\u001b[0m plt.plot(epochs, val_loss, \"b--\",\n",
            "\u001b[0;31mNameError\u001b[0m: name 'history_original' is not defined"
          ]
        }
      ]
    },
    {
      "cell_type": "markdown",
      "metadata": {
        "id": "uO6MwR-y9gme"
      },
      "source": [
        "#### Adding weight regularization"
      ]
    },
    {
      "cell_type": "markdown",
      "metadata": {
        "id": "nMNX8t9z9gme"
      },
      "source": [
        "**Adding L2 weight regularization to the model**"
      ]
    },
    {
      "cell_type": "code",
      "execution_count": null,
      "metadata": {
        "id": "FJh2qp1G9gme"
      },
      "outputs": [],
      "source": [
        "from tensorflow.keras import regularizers\n",
        "model = keras.Sequential([\n",
        "    layers.Dense(16,\n",
        "                 kernel_regularizer=regularizers.l2(0.002),\n",
        "                 activation=\"relu\"),\n",
        "    layers.Dense(16,\n",
        "                 kernel_regularizer=regularizers.l2(0.002),\n",
        "                 activation=\"relu\"),\n",
        "    layers.Dense(1, activation=\"sigmoid\")\n",
        "])\n",
        "model.compile(optimizer=\"rmsprop\",\n",
        "              loss=\"binary_crossentropy\",\n",
        "              metrics=[\"accuracy\"])\n",
        "history_l2_reg = model.fit(\n",
        "    train_data, train_labels,\n",
        "    epochs=20, batch_size=512, validation_split=0.4)"
      ]
    },
    {
      "cell_type": "code",
      "source": [
        "import matplotlib.pyplot as plt\n",
        "val_loss = history_original.history[\"val_loss\"]\n",
        "val_loss2 = history_l2_reg.history[\"val_loss\"]\n",
        "epochs = range(1, 21)\n",
        "plt.plot(epochs, val_loss, \"b--\",\n",
        "         label=\"Validation loss of original model\")\n",
        "plt.plot(epochs, val_loss2, \"b-\",\n",
        "         label=\"Validation loss of original model of l2 regularization\")\n",
        "plt.title(\"Effect of l2 regularization model capacity on validation loss\")\n",
        "plt.xlabel(\"Epochs\")\n",
        "plt.ylabel(\"Loss\")\n",
        "plt.legend()"
      ],
      "metadata": {
        "id": "xQmY-xKi2R38"
      },
      "execution_count": null,
      "outputs": []
    },
    {
      "cell_type": "markdown",
      "metadata": {
        "id": "F-nMZ1UO9gme"
      },
      "source": [
        "**Different weight regularizers available in Keras**"
      ]
    },
    {
      "cell_type": "code",
      "execution_count": null,
      "metadata": {
        "id": "lSbVjBvG9gmf"
      },
      "outputs": [],
      "source": [
        "from tensorflow.keras import regularizers\n",
        "regularizers.l1(0.001)\n",
        "regularizers.l1_l2(l1=0.001, l2=0.001)"
      ]
    },
    {
      "cell_type": "markdown",
      "metadata": {
        "id": "_Nl73j1Q9gmf"
      },
      "source": [
        "#### Adding dropout"
      ]
    },
    {
      "cell_type": "markdown",
      "metadata": {
        "id": "eU2HTKVo9gmf"
      },
      "source": [
        "**Adding dropout to the IMDB model**"
      ]
    },
    {
      "cell_type": "code",
      "execution_count": null,
      "metadata": {
        "id": "uBGrv6zj9gmf"
      },
      "outputs": [],
      "source": [
        "model = keras.Sequential([\n",
        "    layers.Dense(16, activation=\"relu\"),\n",
        "    layers.Dropout(0.5),\n",
        "    layers.Dense(16, activation=\"relu\"),\n",
        "    layers.Dropout(0.5),\n",
        "    layers.Dense(1, activation=\"sigmoid\")\n",
        "])\n",
        "model.compile(optimizer=\"rmsprop\",\n",
        "              loss=\"binary_crossentropy\",\n",
        "              metrics=[\"accuracy\"])\n",
        "history_dropout = model.fit(\n",
        "    train_data, train_labels,\n",
        "    epochs=20, batch_size=512, validation_split=0.4)"
      ]
    },
    {
      "cell_type": "code",
      "source": [
        "import matplotlib.pyplot as plt\n",
        "val_loss = history_original.history[\"val_loss\"]\n",
        "val_loss2 = history_dropout.history[\"val_loss\"]\n",
        "epochs = range(1, 21)\n",
        "plt.plot(epochs, val_loss, \"b--\",\n",
        "         label=\"Validation loss of original model\")\n",
        "plt.plot(epochs, val_loss2, \"b-\",\n",
        "         label=\"Validation loss of original model of dropout\")\n",
        "plt.title(\"Effect of dropout regularization model capacity on validation loss\")\n",
        "plt.xlabel(\"Epochs\")\n",
        "plt.ylabel(\"Loss\")\n",
        "plt.legend()"
      ],
      "metadata": {
        "id": "tX4INdmt2eix"
      },
      "execution_count": null,
      "outputs": []
    },
    {
      "cell_type": "markdown",
      "metadata": {
        "id": "4WZauqSo9gmf"
      },
      "source": [
        "## Summary"
      ]
    }
  ],
  "metadata": {
    "colab": {
      "collapsed_sections": [],
      "name": "chapter05_fundamentals-of-ml.i",
      "provenance": [],
      "toc_visible": true
    },
    "kernelspec": {
      "display_name": "Python 3",
      "language": "python",
      "name": "python3"
    },
    "language_info": {
      "codemirror_mode": {
        "name": "ipython",
        "version": 3
      },
      "file_extension": ".py",
      "mimetype": "text/x-python",
      "name": "python",
      "nbconvert_exporter": "python",
      "pygments_lexer": "ipython3",
      "version": "3.7.0"
    }
  },
  "nbformat": 4,
  "nbformat_minor": 0
}